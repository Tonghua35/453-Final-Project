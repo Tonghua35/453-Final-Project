{
 "cells": [
  {
   "cell_type": "code",
   "execution_count": 1,
   "metadata": {},
   "outputs": [],
   "source": [
    "import os\n",
    "import random\n",
    "\n",
    "import pandas as pd\n",
    "import numpy as np\n",
    "from PIL import Image\n",
    "import matplotlib.pyplot as plt\n",
    "import torch\n",
    "import torchvision\n",
    "\n",
    "from torch.utils.data import DataLoader, Dataset, random_split\n",
    "from torchvision import datasets, transforms\n",
    "\n",
    "from helper_evaluation import set_all_seeds, compute_confusion_matrix\n",
    "from helper_train import train_model\n",
    "from helper_plotting import plot_training_loss, plot_accuracy, show_examples, plot_confusion_matrix\n",
    "from helper_dataset import UnNormalize"
   ]
  },
  {
   "cell_type": "code",
   "execution_count": 2,
   "metadata": {},
   "outputs": [],
   "source": [
    "torch.cuda.empty_cache()\n",
    "random_seed = 42\n",
    "train_root = 'train_images'\n",
    "NUM_EPOCHS = 30\n",
    "device = torch.device('cuda:0' if torch.cuda.is_available() else 'cpu')\n",
    "\n",
    "set_all_seeds(random_seed)"
   ]
  },
  {
   "cell_type": "code",
   "execution_count": 3,
   "metadata": {},
   "outputs": [
    {
     "data": {
      "text/html": [
       "<div>\n",
       "<style scoped>\n",
       "    .dataframe tbody tr th:only-of-type {\n",
       "        vertical-align: middle;\n",
       "    }\n",
       "\n",
       "    .dataframe tbody tr th {\n",
       "        vertical-align: top;\n",
       "    }\n",
       "\n",
       "    .dataframe thead th {\n",
       "        text-align: right;\n",
       "    }\n",
       "</style>\n",
       "<table border=\"1\" class=\"dataframe\">\n",
       "  <thead>\n",
       "    <tr style=\"text-align: right;\">\n",
       "      <th></th>\n",
       "      <th>image_id</th>\n",
       "      <th>label</th>\n",
       "    </tr>\n",
       "  </thead>\n",
       "  <tbody>\n",
       "    <tr>\n",
       "      <th>0</th>\n",
       "      <td>1000015157.jpg</td>\n",
       "      <td>0</td>\n",
       "    </tr>\n",
       "    <tr>\n",
       "      <th>1</th>\n",
       "      <td>1000201771.jpg</td>\n",
       "      <td>3</td>\n",
       "    </tr>\n",
       "    <tr>\n",
       "      <th>2</th>\n",
       "      <td>100042118.jpg</td>\n",
       "      <td>1</td>\n",
       "    </tr>\n",
       "    <tr>\n",
       "      <th>3</th>\n",
       "      <td>1000723321.jpg</td>\n",
       "      <td>1</td>\n",
       "    </tr>\n",
       "    <tr>\n",
       "      <th>4</th>\n",
       "      <td>1000812911.jpg</td>\n",
       "      <td>3</td>\n",
       "    </tr>\n",
       "  </tbody>\n",
       "</table>\n",
       "</div>"
      ],
      "text/plain": [
       "         image_id  label\n",
       "0  1000015157.jpg      0\n",
       "1  1000201771.jpg      3\n",
       "2   100042118.jpg      1\n",
       "3  1000723321.jpg      1\n",
       "4  1000812911.jpg      3"
      ]
     },
     "execution_count": 3,
     "metadata": {},
     "output_type": "execute_result"
    }
   ],
   "source": [
    "train_table = pd.read_csv('train.csv')\n",
    "train_table.head()"
   ]
  },
  {
   "cell_type": "code",
   "execution_count": 4,
   "metadata": {},
   "outputs": [
    {
     "data": {
      "text/plain": [
       "(21397, 2)"
      ]
     },
     "execution_count": 4,
     "metadata": {},
     "output_type": "execute_result"
    }
   ],
   "source": [
    "train_table.shape"
   ]
  },
  {
   "cell_type": "code",
   "execution_count": 5,
   "metadata": {},
   "outputs": [
    {
     "data": {
      "text/plain": [
       "3    13158\n",
       "4     2577\n",
       "2     2386\n",
       "1     2189\n",
       "0     1087\n",
       "Name: label, dtype: int64"
      ]
     },
     "execution_count": 5,
     "metadata": {},
     "output_type": "execute_result"
    }
   ],
   "source": [
    "train_table['label'].value_counts()"
   ]
  },
  {
   "cell_type": "code",
   "execution_count": 6,
   "metadata": {},
   "outputs": [],
   "source": [
    "train_paths = [os.path.join(train_root, file) for file in train_table['image_id']]\n",
    "train_labels = train_table['label'].values"
   ]
  },
  {
   "cell_type": "code",
   "execution_count": 7,
   "metadata": {},
   "outputs": [],
   "source": [
    "# sizes = set()\n",
    "# modes = set()\n",
    "# for path in train_paths:\n",
    "#     pic = Image.open(path)\n",
    "#     sizes.add(pic.size)\n",
    "#     modes.add(pic.mode)\n",
    "# print(sizes)\n",
    "# print(modes)"
   ]
  },
  {
   "cell_type": "code",
   "execution_count": 8,
   "metadata": {},
   "outputs": [],
   "source": [
    "normalize = transforms.Normalize(\n",
    "    mean=[0.485, 0.456, 0.406],\n",
    "    std=[0.229, 0.224, 0.225]\n",
    ")\n",
    "preprocess = transforms.Compose([\n",
    "    #transforms.Scale(256),\n",
    "    #transforms.CenterCrop(224),\n",
    "    transforms.ToTensor(),\n",
    "    normalize\n",
    "])\n",
    "\n",
    "def default_loader(path):\n",
    "    img_pil =  Image.open(path)\n",
    "    img_pil = img_pil.resize((400,300))\n",
    "    img_tensor = preprocess(img_pil)\n",
    "    return img_tensor"
   ]
  },
  {
   "cell_type": "code",
   "execution_count": 9,
   "metadata": {},
   "outputs": [],
   "source": [
    "class MyDataset(Dataset):\n",
    "    def __init__(self, img_paths, labels, loader=default_loader):\n",
    "        self.img_paths = img_paths\n",
    "        self.labels = labels\n",
    "        self.loader = loader\n",
    "        \n",
    "    def __getitem__(self, index):\n",
    "        img_path, label = self.img_paths[index], self.labels[index]\n",
    "        img = self.loader(img_path)\n",
    "        \n",
    "        return img, label\n",
    "    \n",
    "    def __len__(self):\n",
    "        return len(self.labels)"
   ]
  },
  {
   "cell_type": "code",
   "execution_count": 10,
   "metadata": {},
   "outputs": [
    {
     "data": {
      "text/plain": [
       "array([17117.6 ,  1069.85,  3209.55])"
      ]
     },
     "execution_count": 10,
     "metadata": {},
     "output_type": "execute_result"
    }
   ],
   "source": [
    "dataset = MyDataset(train_paths, train_labels)\n",
    "len(dataset)*np.array([0.8,0.05,0.15])"
   ]
  },
  {
   "cell_type": "code",
   "execution_count": 11,
   "metadata": {},
   "outputs": [],
   "source": [
    "train_dataset, val_dataset, test_dataset = random_split(dataset, [17118 ,  1070,  3209], generator=torch.Generator().manual_seed(random_seed))"
   ]
  },
  {
   "cell_type": "code",
   "execution_count": 12,
   "metadata": {},
   "outputs": [],
   "source": [
    "batch_size = 5\n",
    "train_loader = DataLoader(train_dataset, batch_size=batch_size, shuffle=True)\n",
    "valid_loader = DataLoader(val_dataset, batch_size=batch_size)\n",
    "test_loader = DataLoader(test_dataset, batch_size=batch_size)"
   ]
  },
  {
   "cell_type": "code",
   "execution_count": 13,
   "metadata": {},
   "outputs": [],
   "source": [
    "model = torchvision.models.wide_resnet50_2(pretrained=True)\n",
    "model = model.to(device)"
   ]
  },
  {
   "cell_type": "code",
   "execution_count": 14,
   "metadata": {},
   "outputs": [],
   "source": [
    "optimizer = torch.optim.SGD(model.parameters(), momentum=0.7, lr=0.001)\n",
    "scheduler = torch.optim.lr_scheduler.ReduceLROnPlateau(optimizer,\n",
    "                                                       factor=0.1,\n",
    "                                                       mode='max',\n",
    "                                                       verbose=True)"
   ]
  },
  {
   "cell_type": "code",
   "execution_count": 15,
   "metadata": {},
   "outputs": [
    {
     "name": "stdout",
     "output_type": "stream",
     "text": [
      "Epoch: 001/030 | Batch 0000/3424 | Loss: 7.6020\n",
      "Epoch: 001/030 | Batch 0100/3424 | Loss: 1.1668\n",
      "Epoch: 001/030 | Batch 0200/3424 | Loss: 1.1040\n",
      "Epoch: 001/030 | Batch 0300/3424 | Loss: 0.8977\n",
      "Epoch: 001/030 | Batch 0400/3424 | Loss: 0.7010\n",
      "Epoch: 001/030 | Batch 0500/3424 | Loss: 0.3154\n",
      "Epoch: 001/030 | Batch 0600/3424 | Loss: 0.4885\n",
      "Epoch: 001/030 | Batch 0700/3424 | Loss: 0.6860\n",
      "Epoch: 001/030 | Batch 0800/3424 | Loss: 0.8585\n",
      "Epoch: 001/030 | Batch 0900/3424 | Loss: 0.6187\n",
      "Epoch: 001/030 | Batch 1000/3424 | Loss: 0.2163\n",
      "Epoch: 001/030 | Batch 1100/3424 | Loss: 0.9853\n",
      "Epoch: 001/030 | Batch 1200/3424 | Loss: 0.1402\n",
      "Epoch: 001/030 | Batch 1300/3424 | Loss: 0.2385\n",
      "Epoch: 001/030 | Batch 1400/3424 | Loss: 1.1425\n",
      "Epoch: 001/030 | Batch 1500/3424 | Loss: 1.1232\n",
      "Epoch: 001/030 | Batch 1600/3424 | Loss: 1.3813\n",
      "Epoch: 001/030 | Batch 1700/3424 | Loss: 0.0850\n",
      "Epoch: 001/030 | Batch 1800/3424 | Loss: 0.3495\n",
      "Epoch: 001/030 | Batch 1900/3424 | Loss: 0.4141\n",
      "Epoch: 001/030 | Batch 2000/3424 | Loss: 0.4937\n",
      "Epoch: 001/030 | Batch 2100/3424 | Loss: 0.1506\n",
      "Epoch: 001/030 | Batch 2200/3424 | Loss: 0.6572\n",
      "Epoch: 001/030 | Batch 2300/3424 | Loss: 1.8847\n",
      "Epoch: 001/030 | Batch 2400/3424 | Loss: 0.3643\n",
      "Epoch: 001/030 | Batch 2500/3424 | Loss: 1.3129\n",
      "Epoch: 001/030 | Batch 2600/3424 | Loss: 1.3649\n",
      "Epoch: 001/030 | Batch 2700/3424 | Loss: 1.0843\n",
      "Epoch: 001/030 | Batch 2800/3424 | Loss: 0.3561\n",
      "Epoch: 001/030 | Batch 2900/3424 | Loss: 0.4092\n",
      "Epoch: 001/030 | Batch 3000/3424 | Loss: 0.2201\n",
      "Epoch: 001/030 | Batch 3100/3424 | Loss: 0.6378\n",
      "Epoch: 001/030 | Batch 3200/3424 | Loss: 0.6013\n",
      "Epoch: 001/030 | Batch 3300/3424 | Loss: 0.2380\n",
      "Epoch: 001/030 | Batch 3400/3424 | Loss: 0.6479\n",
      "Epoch: 001/030 | Train: 89.25% | Validation: 87.10%\n",
      "Time elapsed: 47.76 min\n",
      "Epoch: 002/030 | Batch 0000/3424 | Loss: 3.8451\n",
      "Epoch: 002/030 | Batch 0100/3424 | Loss: 0.3242\n",
      "Epoch: 002/030 | Batch 0200/3424 | Loss: 0.7665\n",
      "Epoch: 002/030 | Batch 0300/3424 | Loss: 0.7592\n",
      "Epoch: 002/030 | Batch 0400/3424 | Loss: 1.2284\n",
      "Epoch: 002/030 | Batch 0500/3424 | Loss: 0.2723\n",
      "Epoch: 002/030 | Batch 0600/3424 | Loss: 0.2562\n",
      "Epoch: 002/030 | Batch 0700/3424 | Loss: 0.1665\n",
      "Epoch: 002/030 | Batch 0800/3424 | Loss: 0.0971\n",
      "Epoch: 002/030 | Batch 0900/3424 | Loss: 0.2434\n",
      "Epoch: 002/030 | Batch 1000/3424 | Loss: 0.6986\n",
      "Epoch: 002/030 | Batch 1100/3424 | Loss: 0.0899\n",
      "Epoch: 002/030 | Batch 1200/3424 | Loss: 0.0254\n",
      "Epoch: 002/030 | Batch 1300/3424 | Loss: 0.3366\n",
      "Epoch: 002/030 | Batch 1400/3424 | Loss: 0.2899\n",
      "Epoch: 002/030 | Batch 1500/3424 | Loss: 0.9234\n",
      "Epoch: 002/030 | Batch 1600/3424 | Loss: 1.5617\n",
      "Epoch: 002/030 | Batch 1700/3424 | Loss: 0.0936\n",
      "Epoch: 002/030 | Batch 1800/3424 | Loss: 0.0345\n",
      "Epoch: 002/030 | Batch 1900/3424 | Loss: 0.1695\n",
      "Epoch: 002/030 | Batch 2000/3424 | Loss: 0.0830\n",
      "Epoch: 002/030 | Batch 2100/3424 | Loss: 1.3467\n",
      "Epoch: 002/030 | Batch 2200/3424 | Loss: 0.5581\n",
      "Epoch: 002/030 | Batch 2300/3424 | Loss: 0.4805\n",
      "Epoch: 002/030 | Batch 2400/3424 | Loss: 1.0140\n",
      "Epoch: 002/030 | Batch 2500/3424 | Loss: 0.1705\n",
      "Epoch: 002/030 | Batch 2600/3424 | Loss: 0.1587\n",
      "Epoch: 002/030 | Batch 2700/3424 | Loss: 0.5521\n",
      "Epoch: 002/030 | Batch 2800/3424 | Loss: 0.1745\n",
      "Epoch: 002/030 | Batch 2900/3424 | Loss: 0.2123\n",
      "Epoch: 002/030 | Batch 3000/3424 | Loss: 0.2619\n",
      "Epoch: 002/030 | Batch 3100/3424 | Loss: 0.3364\n",
      "Epoch: 002/030 | Batch 3200/3424 | Loss: 0.2774\n",
      "Epoch: 002/030 | Batch 3300/3424 | Loss: 1.7362\n",
      "Epoch: 002/030 | Batch 3400/3424 | Loss: 0.1128\n",
      "Epoch: 002/030 | Train: 93.43% | Validation: 86.36%\n",
      "Time elapsed: 95.05 min\n",
      "Epoch: 003/030 | Batch 0000/3424 | Loss: 0.1213\n",
      "Epoch: 003/030 | Batch 0100/3424 | Loss: 0.1316\n",
      "Epoch: 003/030 | Batch 0200/3424 | Loss: 0.1828\n",
      "Epoch: 003/030 | Batch 0300/3424 | Loss: 0.0764\n",
      "Epoch: 003/030 | Batch 0400/3424 | Loss: 0.1817\n",
      "Epoch: 003/030 | Batch 0500/3424 | Loss: 0.1325\n",
      "Epoch: 003/030 | Batch 0600/3424 | Loss: 0.0273\n",
      "Epoch: 003/030 | Batch 0700/3424 | Loss: 0.0386\n",
      "Epoch: 003/030 | Batch 0800/3424 | Loss: 0.4202\n",
      "Epoch: 003/030 | Batch 0900/3424 | Loss: 0.0689\n",
      "Epoch: 003/030 | Batch 1000/3424 | Loss: 0.0777\n",
      "Epoch: 003/030 | Batch 1100/3424 | Loss: 0.0407\n",
      "Epoch: 003/030 | Batch 1200/3424 | Loss: 0.0650\n",
      "Epoch: 003/030 | Batch 1300/3424 | Loss: 0.2194\n",
      "Epoch: 003/030 | Batch 1400/3424 | Loss: 0.1244\n",
      "Epoch: 003/030 | Batch 1500/3424 | Loss: 1.1434\n",
      "Epoch: 003/030 | Batch 1600/3424 | Loss: 0.0778\n",
      "Epoch: 003/030 | Batch 1700/3424 | Loss: 0.1552\n",
      "Epoch: 003/030 | Batch 1800/3424 | Loss: 0.3317\n",
      "Epoch: 003/030 | Batch 1900/3424 | Loss: 0.7440\n",
      "Epoch: 003/030 | Batch 2000/3424 | Loss: 0.1218\n",
      "Epoch: 003/030 | Batch 2100/3424 | Loss: 0.0525\n",
      "Epoch: 003/030 | Batch 2200/3424 | Loss: 0.3594\n",
      "Epoch: 003/030 | Batch 2300/3424 | Loss: 0.0607\n",
      "Epoch: 003/030 | Batch 2400/3424 | Loss: 0.1806\n",
      "Epoch: 003/030 | Batch 2500/3424 | Loss: 0.2333\n",
      "Epoch: 003/030 | Batch 2600/3424 | Loss: 0.4066\n",
      "Epoch: 003/030 | Batch 2700/3424 | Loss: 0.0062\n",
      "Epoch: 003/030 | Batch 2800/3424 | Loss: 0.1495\n",
      "Epoch: 003/030 | Batch 2900/3424 | Loss: 0.1408\n",
      "Epoch: 003/030 | Batch 3000/3424 | Loss: 0.0583\n",
      "Epoch: 003/030 | Batch 3100/3424 | Loss: 0.0486\n",
      "Epoch: 003/030 | Batch 3200/3424 | Loss: 0.4710\n",
      "Epoch: 003/030 | Batch 3300/3424 | Loss: 0.1368\n",
      "Epoch: 003/030 | Batch 3400/3424 | Loss: 0.1460\n",
      "Epoch: 003/030 | Train: 95.86% | Validation: 86.17%\n",
      "Time elapsed: 142.16 min\n",
      "Early stopping\n",
      "Total Training Time: 142.16 min\n",
      "Test accuracy 84.11%\n"
     ]
    }
   ],
   "source": [
    "minibatch_loss_list, train_acc_list, valid_acc_list = train_model(\n",
    "    model=model,\n",
    "    num_epochs=NUM_EPOCHS,\n",
    "    train_loader=train_loader,\n",
    "    valid_loader=valid_loader,\n",
    "    test_loader=test_loader,\n",
    "    optimizer=optimizer,\n",
    "    device=device,\n",
    "    scheduler=scheduler,\n",
    "    scheduler_on='valid_acc',\n",
    "    logging_interval=100)\n"
   ]
  },
  {
   "cell_type": "code",
   "execution_count": 16,
   "metadata": {},
   "outputs": [
    {
     "data": {
      "image/png": "[encoded data removed]",
      "text/plain": [
       "<Figure size 432x288 with 2 Axes>"
      ]
     },
     "metadata": {
      "needs_background": "light"
     },
     "output_type": "display_data"
    }
   ],
   "source": [
    "plot_training_loss(minibatch_loss_list=minibatch_loss_list,\n",
    "                   num_epochs=NUM_EPOCHS,\n",
    "                   iter_per_epoch=len(train_loader),\n",
    "                   results_dir=None,\n",
    "                   averaging_iterations=200)\n",
    "plt.title('Training Loss of Wide Resnet')\n",
    "plt.savefig('wideresTL.pdf')\n",
    "plt.show()"
   ]
  },
  {
   "cell_type": "code",
   "execution_count": 17,
   "metadata": {},
   "outputs": [
    {
     "data": {
      "image/png": "[encoded data removed]",
      "text/plain": [
       "<Figure size 432x288 with 1 Axes>"
      ]
     },
     "metadata": {
      "needs_background": "light"
     },
     "output_type": "display_data"
    }
   ],
   "source": [
    "plot_accuracy(train_acc_list=train_acc_list,\n",
    "              valid_acc_list=valid_acc_list,\n",
    "              results_dir=None)\n",
    "plt.ylim([40, 100])\n",
    "plt.title('Accuracy of Wide Resnet')\n",
    "plt.savefig('wideresACC.pdf')\n",
    "plt.show()"
   ]
  },
  {
   "cell_type": "code",
   "execution_count": 18,
   "metadata": {},
   "outputs": [
    {
     "data": {
      "image/png": "[encoded data removed]",
      "text/plain": [
       "<Figure size 432x288 with 1 Axes>"
      ]
     },
     "metadata": {
      "needs_background": "light"
     },
     "output_type": "display_data"
    }
   ],
   "source": [
    "class_dict = {0: 'A',\n",
    "              1: 'B',\n",
    "              2: 'C',\n",
    "              3: 'D',\n",
    "              4: 'E',}\n",
    "mat = compute_confusion_matrix(model=model, data_loader=test_loader, device=device)\n",
    "plot_confusion_matrix(mat, class_names=class_dict.values())\n",
    "plt.title('Confusion Matrix of Wide Resnet Results\\nTest Accuracy: 84.11%')\n",
    "plt.savefig('wideresCM.pdf')\n",
    "plt.show()"
   ]
  },
  {
   "cell_type": "code",
   "execution_count": 19,
   "metadata": {},
   "outputs": [],
   "source": [
    "torch.save(model.state_dict(), 'wideres.pkl')"
   ]
  },
  {
   "cell_type": "code",
   "execution_count": null,
   "metadata": {},
   "outputs": [],
   "source": []
  }
 ],
 "metadata": {
  "kernelspec": {
   "display_name": "Python 3",
   "language": "python",
   "name": "python3"
  },
  "language_info": {
   "codemirror_mode": {
    "name": "ipython",
    "version": 3
   },
   "file_extension": ".py",
   "mimetype": "text/x-python",
   "name": "python",
   "nbconvert_exporter": "python",
   "pygments_lexer": "ipython3",
   "version": "3.8.3"
  }
 },
 "nbformat": 4,
 "nbformat_minor": 4
}
