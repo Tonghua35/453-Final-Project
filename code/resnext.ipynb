{
 "cells": [
  {
   "cell_type": "code",
   "execution_count": 1,
   "metadata": {},
   "outputs": [],
   "source": [
    "import os\n",
    "import random\n",
    "\n",
    "import pandas as pd\n",
    "import numpy as np\n",
    "from PIL import Image\n",
    "import matplotlib.pyplot as plt\n",
    "import torch\n",
    "import torchvision\n",
    "\n",
    "from torch.utils.data import DataLoader, Dataset, random_split\n",
    "from torchvision import datasets, transforms\n",
    "\n",
    "from helper_evaluation import set_all_seeds, compute_confusion_matrix\n",
    "from helper_train import train_model\n",
    "from helper_plotting import plot_training_loss, plot_accuracy, show_examples, plot_confusion_matrix\n",
    "from helper_dataset import UnNormalize"
   ]
  },
  {
   "cell_type": "code",
   "execution_count": 2,
   "metadata": {},
   "outputs": [],
   "source": [
    "torch.cuda.empty_cache()\n",
    "random_seed = 42\n",
    "train_root = 'train_images'\n",
    "NUM_EPOCHS = 30\n",
    "device = torch.device('cuda:0' if torch.cuda.is_available() else 'cpu')\n",
    "\n",
    "set_all_seeds(random_seed)"
   ]
  },
  {
   "cell_type": "code",
   "execution_count": 3,
   "metadata": {},
   "outputs": [
    {
     "data": {
      "text/html": [
       "<div>\n",
       "<style scoped>\n",
       "    .dataframe tbody tr th:only-of-type {\n",
       "        vertical-align: middle;\n",
       "    }\n",
       "\n",
       "    .dataframe tbody tr th {\n",
       "        vertical-align: top;\n",
       "    }\n",
       "\n",
       "    .dataframe thead th {\n",
       "        text-align: right;\n",
       "    }\n",
       "</style>\n",
       "<table border=\"1\" class=\"dataframe\">\n",
       "  <thead>\n",
       "    <tr style=\"text-align: right;\">\n",
       "      <th></th>\n",
       "      <th>image_id</th>\n",
       "      <th>label</th>\n",
       "    </tr>\n",
       "  </thead>\n",
       "  <tbody>\n",
       "    <tr>\n",
       "      <th>0</th>\n",
       "      <td>1000015157.jpg</td>\n",
       "      <td>0</td>\n",
       "    </tr>\n",
       "    <tr>\n",
       "      <th>1</th>\n",
       "      <td>1000201771.jpg</td>\n",
       "      <td>3</td>\n",
       "    </tr>\n",
       "    <tr>\n",
       "      <th>2</th>\n",
       "      <td>100042118.jpg</td>\n",
       "      <td>1</td>\n",
       "    </tr>\n",
       "    <tr>\n",
       "      <th>3</th>\n",
       "      <td>1000723321.jpg</td>\n",
       "      <td>1</td>\n",
       "    </tr>\n",
       "    <tr>\n",
       "      <th>4</th>\n",
       "      <td>1000812911.jpg</td>\n",
       "      <td>3</td>\n",
       "    </tr>\n",
       "  </tbody>\n",
       "</table>\n",
       "</div>"
      ],
      "text/plain": [
       "         image_id  label\n",
       "0  1000015157.jpg      0\n",
       "1  1000201771.jpg      3\n",
       "2   100042118.jpg      1\n",
       "3  1000723321.jpg      1\n",
       "4  1000812911.jpg      3"
      ]
     },
     "execution_count": 3,
     "metadata": {},
     "output_type": "execute_result"
    }
   ],
   "source": [
    "train_table = pd.read_csv('train.csv')\n",
    "train_table.head()"
   ]
  },
  {
   "cell_type": "code",
   "execution_count": 4,
   "metadata": {},
   "outputs": [
    {
     "data": {
      "text/plain": [
       "(21397, 2)"
      ]
     },
     "execution_count": 4,
     "metadata": {},
     "output_type": "execute_result"
    }
   ],
   "source": [
    "train_table.shape"
   ]
  },
  {
   "cell_type": "code",
   "execution_count": 5,
   "metadata": {},
   "outputs": [
    {
     "data": {
      "text/plain": [
       "3    13158\n",
       "4     2577\n",
       "2     2386\n",
       "1     2189\n",
       "0     1087\n",
       "Name: label, dtype: int64"
      ]
     },
     "execution_count": 5,
     "metadata": {},
     "output_type": "execute_result"
    }
   ],
   "source": [
    "train_table['label'].value_counts()"
   ]
  },
  {
   "cell_type": "code",
   "execution_count": 6,
   "metadata": {},
   "outputs": [],
   "source": [
    "train_paths = [os.path.join(train_root, file) for file in train_table['image_id']]\n",
    "train_labels = train_table['label'].values"
   ]
  },
  {
   "cell_type": "code",
   "execution_count": 7,
   "metadata": {},
   "outputs": [],
   "source": [
    "# sizes = set()\n",
    "# modes = set()\n",
    "# for path in train_paths:\n",
    "#     pic = Image.open(path)\n",
    "#     sizes.add(pic.size)\n",
    "#     modes.add(pic.mode)\n",
    "# print(sizes)\n",
    "# print(modes)"
   ]
  },
  {
   "cell_type": "code",
   "execution_count": 8,
   "metadata": {},
   "outputs": [],
   "source": [
    "normalize = transforms.Normalize(\n",
    "    mean=[0.485, 0.456, 0.406],\n",
    "    std=[0.229, 0.224, 0.225]\n",
    ")\n",
    "preprocess = transforms.Compose([\n",
    "    #transforms.Scale(256),\n",
    "    #transforms.CenterCrop(224),\n",
    "    transforms.ToTensor(),\n",
    "    normalize\n",
    "])\n",
    "\n",
    "def default_loader(path):\n",
    "    img_pil =  Image.open(path)\n",
    "    img_pil = img_pil.resize((400,300))\n",
    "    img_tensor = preprocess(img_pil)\n",
    "    return img_tensor"
   ]
  },
  {
   "cell_type": "code",
   "execution_count": 9,
   "metadata": {},
   "outputs": [],
   "source": [
    "class MyDataset(Dataset):\n",
    "    def __init__(self, img_paths, labels, loader=default_loader):\n",
    "        self.img_paths = img_paths\n",
    "        self.labels = labels\n",
    "        self.loader = loader\n",
    "        \n",
    "    def __getitem__(self, index):\n",
    "        img_path, label = self.img_paths[index], self.labels[index]\n",
    "        img = self.loader(img_path)\n",
    "        \n",
    "        return img, label\n",
    "    \n",
    "    def __len__(self):\n",
    "        return len(self.labels)"
   ]
  },
  {
   "cell_type": "code",
   "execution_count": 10,
   "metadata": {},
   "outputs": [
    {
     "data": {
      "text/plain": [
       "array([17117.6 ,  1069.85,  3209.55])"
      ]
     },
     "execution_count": 10,
     "metadata": {},
     "output_type": "execute_result"
    }
   ],
   "source": [
    "dataset = MyDataset(train_paths, train_labels)\n",
    "len(dataset)*np.array([0.8,0.05,0.15])"
   ]
  },
  {
   "cell_type": "code",
   "execution_count": 11,
   "metadata": {},
   "outputs": [],
   "source": [
    "train_dataset, val_dataset, test_dataset = random_split(dataset, [17118 ,  1070,  3209], generator=torch.Generator().manual_seed(random_seed))"
   ]
  },
  {
   "cell_type": "code",
   "execution_count": 12,
   "metadata": {},
   "outputs": [],
   "source": [
    "batch_size = 6\n",
    "train_loader = DataLoader(train_dataset, batch_size=batch_size, shuffle=True)\n",
    "valid_loader = DataLoader(val_dataset, batch_size=batch_size)\n",
    "test_loader = DataLoader(test_dataset, batch_size=batch_size)"
   ]
  },
  {
   "cell_type": "code",
   "execution_count": 13,
   "metadata": {},
   "outputs": [],
   "source": [
    "model = torchvision.models.resnext50_32x4d(pretrained=True)\n",
    "model = model.to(device)"
   ]
  },
  {
   "cell_type": "code",
   "execution_count": 14,
   "metadata": {},
   "outputs": [],
   "source": [
    "optimizer = torch.optim.SGD(model.parameters(), momentum=0.7, lr=0.001)\n",
    "scheduler = torch.optim.lr_scheduler.ReduceLROnPlateau(optimizer,\n",
    "                                                       factor=0.1,\n",
    "                                                       mode='max',\n",
    "                                                       verbose=True)"
   ]
  },
  {
   "cell_type": "code",
   "execution_count": 15,
   "metadata": {},
   "outputs": [
    {
     "name": "stdout",
     "output_type": "stream",
     "text": [
      "Epoch: 001/030 | Batch 0000/2853 | Loss: 8.3085\n",
      "Epoch: 001/030 | Batch 0100/2853 | Loss: 0.7777\n",
      "Epoch: 001/030 | Batch 0200/2853 | Loss: 1.0424\n",
      "Epoch: 001/030 | Batch 0300/2853 | Loss: 1.7393\n",
      "Epoch: 001/030 | Batch 0400/2853 | Loss: 0.4987\n",
      "Epoch: 001/030 | Batch 0500/2853 | Loss: 0.3909\n",
      "Epoch: 001/030 | Batch 0600/2853 | Loss: 1.3452\n",
      "Epoch: 001/030 | Batch 0700/2853 | Loss: 0.8902\n",
      "Epoch: 001/030 | Batch 0800/2853 | Loss: 0.4518\n",
      "Epoch: 001/030 | Batch 0900/2853 | Loss: 0.7811\n",
      "Epoch: 001/030 | Batch 1000/2853 | Loss: 0.6549\n",
      "Epoch: 001/030 | Batch 1100/2853 | Loss: 0.9447\n",
      "Epoch: 001/030 | Batch 1200/2853 | Loss: 0.1471\n",
      "Epoch: 001/030 | Batch 1300/2853 | Loss: 0.2642\n",
      "Epoch: 001/030 | Batch 1400/2853 | Loss: 0.7375\n",
      "Epoch: 001/030 | Batch 1500/2853 | Loss: 0.3040\n",
      "Epoch: 001/030 | Batch 1600/2853 | Loss: 1.0803\n",
      "Epoch: 001/030 | Batch 1700/2853 | Loss: 0.7086\n",
      "Epoch: 001/030 | Batch 1800/2853 | Loss: 0.2982\n",
      "Epoch: 001/030 | Batch 1900/2853 | Loss: 2.0580\n",
      "Epoch: 001/030 | Batch 2000/2853 | Loss: 0.2575\n",
      "Epoch: 001/030 | Batch 2100/2853 | Loss: 0.1687\n",
      "Epoch: 001/030 | Batch 2200/2853 | Loss: 0.3929\n",
      "Epoch: 001/030 | Batch 2300/2853 | Loss: 0.2019\n",
      "Epoch: 001/030 | Batch 2400/2853 | Loss: 1.0155\n",
      "Epoch: 001/030 | Batch 2500/2853 | Loss: 0.3064\n",
      "Epoch: 001/030 | Batch 2600/2853 | Loss: 0.9257\n",
      "Epoch: 001/030 | Batch 2700/2853 | Loss: 0.5824\n",
      "Epoch: 001/030 | Batch 2800/2853 | Loss: 1.0664\n",
      "Epoch: 001/030 | Train: 88.10% | Validation: 85.98%\n",
      "Time elapsed: 35.04 min\n",
      "Epoch: 002/030 | Batch 0000/2853 | Loss: 0.3065\n",
      "Epoch: 002/030 | Batch 0100/2853 | Loss: 0.4268\n",
      "Epoch: 002/030 | Batch 0200/2853 | Loss: 0.0688\n",
      "Epoch: 002/030 | Batch 0300/2853 | Loss: 0.2277\n",
      "Epoch: 002/030 | Batch 0400/2853 | Loss: 0.1802\n",
      "Epoch: 002/030 | Batch 0500/2853 | Loss: 0.4065\n",
      "Epoch: 002/030 | Batch 0600/2853 | Loss: 0.9468\n",
      "Epoch: 002/030 | Batch 0700/2853 | Loss: 0.1361\n",
      "Epoch: 002/030 | Batch 0800/2853 | Loss: 0.1115\n",
      "Epoch: 002/030 | Batch 0900/2853 | Loss: 1.0447\n",
      "Epoch: 002/030 | Batch 1000/2853 | Loss: 0.1541\n",
      "Epoch: 002/030 | Batch 1100/2853 | Loss: 0.0132\n",
      "Epoch: 002/030 | Batch 1200/2853 | Loss: 0.0315\n",
      "Epoch: 002/030 | Batch 1300/2853 | Loss: 0.6884\n",
      "Epoch: 002/030 | Batch 1400/2853 | Loss: 0.5337\n",
      "Epoch: 002/030 | Batch 1500/2853 | Loss: 0.0616\n",
      "Epoch: 002/030 | Batch 1600/2853 | Loss: 1.4584\n",
      "Epoch: 002/030 | Batch 1700/2853 | Loss: 1.2927\n",
      "Epoch: 002/030 | Batch 1800/2853 | Loss: 0.5025\n",
      "Epoch: 002/030 | Batch 1900/2853 | Loss: 0.3270\n",
      "Epoch: 002/030 | Batch 2000/2853 | Loss: 0.1841\n",
      "Epoch: 002/030 | Batch 2100/2853 | Loss: 1.1863\n",
      "Epoch: 002/030 | Batch 2200/2853 | Loss: 0.4315\n",
      "Epoch: 002/030 | Batch 2300/2853 | Loss: 0.0674\n",
      "Epoch: 002/030 | Batch 2400/2853 | Loss: 0.1328\n",
      "Epoch: 002/030 | Batch 2500/2853 | Loss: 0.4817\n",
      "Epoch: 002/030 | Batch 2600/2853 | Loss: 0.4450\n",
      "Epoch: 002/030 | Batch 2700/2853 | Loss: 0.5692\n",
      "Epoch: 002/030 | Batch 2800/2853 | Loss: 0.3870\n",
      "Epoch: 002/030 | Train: 93.90% | Validation: 86.92%\n",
      "Time elapsed: 68.32 min\n",
      "Epoch: 003/030 | Batch 0000/2853 | Loss: 0.2496\n",
      "Epoch: 003/030 | Batch 0100/2853 | Loss: 0.2015\n",
      "Epoch: 003/030 | Batch 0200/2853 | Loss: 0.3014\n",
      "Epoch: 003/030 | Batch 0300/2853 | Loss: 0.1554\n",
      "Epoch: 003/030 | Batch 0400/2853 | Loss: 0.3057\n",
      "Epoch: 003/030 | Batch 0500/2853 | Loss: 0.1017\n",
      "Epoch: 003/030 | Batch 0600/2853 | Loss: 0.7767\n",
      "Epoch: 003/030 | Batch 0700/2853 | Loss: 0.1199\n",
      "Epoch: 003/030 | Batch 0800/2853 | Loss: 0.0144\n",
      "Epoch: 003/030 | Batch 0900/2853 | Loss: 0.1853\n",
      "Epoch: 003/030 | Batch 1000/2853 | Loss: 0.0100\n",
      "Epoch: 003/030 | Batch 1100/2853 | Loss: 0.6810\n",
      "Epoch: 003/030 | Batch 1200/2853 | Loss: 0.2136\n",
      "Epoch: 003/030 | Batch 1300/2853 | Loss: 0.0882\n",
      "Epoch: 003/030 | Batch 1400/2853 | Loss: 0.4213\n",
      "Epoch: 003/030 | Batch 1500/2853 | Loss: 0.1795\n",
      "Epoch: 003/030 | Batch 1600/2853 | Loss: 0.0557\n",
      "Epoch: 003/030 | Batch 1700/2853 | Loss: 0.8020\n",
      "Epoch: 003/030 | Batch 1800/2853 | Loss: 0.0973\n",
      "Epoch: 003/030 | Batch 1900/2853 | Loss: 0.0661\n",
      "Epoch: 003/030 | Batch 2000/2853 | Loss: 0.0845\n",
      "Epoch: 003/030 | Batch 2100/2853 | Loss: 0.3919\n",
      "Epoch: 003/030 | Batch 2200/2853 | Loss: 0.0759\n",
      "Epoch: 003/030 | Batch 2300/2853 | Loss: 0.1366\n",
      "Epoch: 003/030 | Batch 2400/2853 | Loss: 0.1348\n",
      "Epoch: 003/030 | Batch 2500/2853 | Loss: 0.3582\n",
      "Epoch: 003/030 | Batch 2600/2853 | Loss: 0.6325\n",
      "Epoch: 003/030 | Batch 2700/2853 | Loss: 0.7481\n",
      "Epoch: 003/030 | Batch 2800/2853 | Loss: 0.0276\n",
      "Epoch: 003/030 | Train: 96.79% | Validation: 85.79%\n",
      "Time elapsed: 101.67 min\n",
      "Epoch: 004/030 | Batch 0000/2853 | Loss: 0.0410\n",
      "Epoch: 004/030 | Batch 0100/2853 | Loss: 0.5225\n",
      "Epoch: 004/030 | Batch 0200/2853 | Loss: 0.0917\n",
      "Epoch: 004/030 | Batch 0300/2853 | Loss: 0.7130\n",
      "Epoch: 004/030 | Batch 0400/2853 | Loss: 0.6300\n",
      "Epoch: 004/030 | Batch 0500/2853 | Loss: 0.1203\n",
      "Epoch: 004/030 | Batch 0600/2853 | Loss: 0.0614\n",
      "Epoch: 004/030 | Batch 0700/2853 | Loss: 0.0399\n",
      "Epoch: 004/030 | Batch 0800/2853 | Loss: 0.1652\n",
      "Epoch: 004/030 | Batch 0900/2853 | Loss: 0.0210\n",
      "Epoch: 004/030 | Batch 1000/2853 | Loss: 0.6415\n",
      "Epoch: 004/030 | Batch 1100/2853 | Loss: 0.1722\n",
      "Epoch: 004/030 | Batch 1200/2853 | Loss: 0.1247\n",
      "Epoch: 004/030 | Batch 1300/2853 | Loss: 0.2945\n",
      "Epoch: 004/030 | Batch 1400/2853 | Loss: 0.0372\n",
      "Epoch: 004/030 | Batch 1500/2853 | Loss: 0.1407\n",
      "Epoch: 004/030 | Batch 1600/2853 | Loss: 0.0140\n",
      "Epoch: 004/030 | Batch 1700/2853 | Loss: 0.0327\n",
      "Epoch: 004/030 | Batch 1800/2853 | Loss: 0.0616\n",
      "Epoch: 004/030 | Batch 1900/2853 | Loss: 0.0535\n",
      "Epoch: 004/030 | Batch 2000/2853 | Loss: 0.0464\n",
      "Epoch: 004/030 | Batch 2100/2853 | Loss: 0.0094\n",
      "Epoch: 004/030 | Batch 2200/2853 | Loss: 0.2999\n",
      "Epoch: 004/030 | Batch 2300/2853 | Loss: 0.1245\n",
      "Epoch: 004/030 | Batch 2400/2853 | Loss: 0.1246\n",
      "Epoch: 004/030 | Batch 2500/2853 | Loss: 0.3345\n",
      "Epoch: 004/030 | Batch 2600/2853 | Loss: 0.2262\n",
      "Epoch: 004/030 | Batch 2700/2853 | Loss: 0.1494\n",
      "Epoch: 004/030 | Batch 2800/2853 | Loss: 0.0151\n",
      "Epoch: 004/030 | Train: 98.26% | Validation: 86.73%\n",
      "Time elapsed: 134.11 min\n",
      "Early stopping\n",
      "Total Training Time: 134.11 min\n",
      "Test accuracy 85.76%\n"
     ]
    }
   ],
   "source": [
    "minibatch_loss_list, train_acc_list, valid_acc_list = train_model(\n",
    "    model=model,\n",
    "    num_epochs=NUM_EPOCHS,\n",
    "    train_loader=train_loader,\n",
    "    valid_loader=valid_loader,\n",
    "    test_loader=test_loader,\n",
    "    optimizer=optimizer,\n",
    "    device=device,\n",
    "    scheduler=scheduler,\n",
    "    scheduler_on='valid_acc',\n",
    "    logging_interval=100)\n"
   ]
  },
  {
   "cell_type": "code",
   "execution_count": 16,
   "metadata": {},
   "outputs": [
    {
     "data": {
      "image/png": "[encoded data removed]",
      "text/plain": [
       "<Figure size 432x288 with 2 Axes>"
      ]
     },
     "metadata": {
      "needs_background": "light"
     },
     "output_type": "display_data"
    }
   ],
   "source": [
    "plot_training_loss(minibatch_loss_list=minibatch_loss_list,\n",
    "                   num_epochs=NUM_EPOCHS,\n",
    "                   iter_per_epoch=len(train_loader),\n",
    "                   results_dir=None,\n",
    "                   averaging_iterations=200)\n",
    "plt.title('Training Loss of ResNeXt')\n",
    "plt.savefig('resnextTL.pdf')\n",
    "plt.show()"
   ]
  },
  {
   "cell_type": "code",
   "execution_count": 17,
   "metadata": {},
   "outputs": [
    {
     "data": {
      "image/png": "[encoded data removed]",
      "text/plain": [
       "<Figure size 432x288 with 1 Axes>"
      ]
     },
     "metadata": {
      "needs_background": "light"
     },
     "output_type": "display_data"
    }
   ],
   "source": [
    "plot_accuracy(train_acc_list=train_acc_list,\n",
    "              valid_acc_list=valid_acc_list,\n",
    "              results_dir=None)\n",
    "plt.ylim([40, 100])\n",
    "plt.title('Accuracy of ResNeXt')\n",
    "plt.savefig('resnextACC.pdf')\n",
    "plt.show()"
   ]
  },
  {
   "cell_type": "code",
   "execution_count": 19,
   "metadata": {},
   "outputs": [
    {
     "data": {
      "image/png": "[encoded data removed]",
      "text/plain": [
       "<Figure size 432x288 with 1 Axes>"
      ]
     },
     "metadata": {
      "needs_background": "light"
     },
     "output_type": "display_data"
    }
   ],
   "source": [
    "class_dict = {0: 'A',\n",
    "              1: 'B',\n",
    "              2: 'C',\n",
    "              3: 'D',\n",
    "              4: 'E',}\n",
    "mat = compute_confusion_matrix(model=model, data_loader=test_loader, device=device)\n",
    "plot_confusion_matrix(mat, class_names=class_dict.values())\n",
    "plt.title('Confusion Matrix of ResNeXt Results\\nTest Accuracy: 85.76%')\n",
    "plt.savefig('resnextCM.pdf')\n",
    "plt.show()"
   ]
  },
  {
   "cell_type": "code",
   "execution_count": 20,
   "metadata": {},
   "outputs": [],
   "source": [
    "torch.save(model.state_dict(), 'resnext.pkl')"
   ]
  },
  {
   "cell_type": "code",
   "execution_count": null,
   "metadata": {},
   "outputs": [],
   "source": []
  }
 ],
 "metadata": {
  "kernelspec": {
   "display_name": "Python 3",
   "language": "python",
   "name": "python3"
  },
  "language_info": {
   "codemirror_mode": {
    "name": "ipython",
    "version": 3
   },
   "file_extension": ".py",
   "mimetype": "text/x-python",
   "name": "python",
   "nbconvert_exporter": "python",
   "pygments_lexer": "ipython3",
   "version": "3.8.3"
  }
 },
 "nbformat": 4,
 "nbformat_minor": 4
}
