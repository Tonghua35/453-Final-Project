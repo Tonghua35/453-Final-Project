{
 "cells": [
  {
   "cell_type": "code",
   "execution_count": 1,
   "metadata": {},
   "outputs": [],
   "source": [
    "import os\n",
    "import random\n",
    "\n",
    "import pandas as pd\n",
    "import numpy as np\n",
    "from PIL import Image\n",
    "import matplotlib.pyplot as plt\n",
    "import torch\n",
    "import torchvision\n",
    "import re\n",
    "import torch.nn as nn\n",
    "import torch.nn.functional as F\n",
    "import torch.utils.checkpoint as cp\n",
    "from collections import OrderedDict\n",
    "from torch import Tensor\n",
    "from typing import Any, List, Tuple\n",
    "\n",
    "from torch.utils.data import DataLoader, Dataset, random_split\n",
    "from torchvision import datasets, transforms\n",
    "\n",
    "from helper_train import train_model\n",
    "from helper_plotting import plot_training_loss, plot_accuracy, show_examples, plot_confusion_matrix\n",
    "import torchvision.transforms as T\n",
    "import sklearn.utils as utils"
   ]
  },
  {
   "cell_type": "code",
   "execution_count": 2,
   "metadata": {},
   "outputs": [],
   "source": [
    "torch.cuda.empty_cache()\n",
    "random_seed = 42\n",
    "batch_size = 50\n",
    "train_root = 'train_images'\n",
    "NUM_EPOCHS = 15\n",
    "device = torch.device('cuda:0' if torch.cuda.is_available() else 'cpu')"
   ]
  },
  {
   "cell_type": "code",
   "execution_count": 3,
   "metadata": {},
   "outputs": [
    {
     "data": {
      "text/html": [
       "<div>\n",
       "<style scoped>\n",
       "    .dataframe tbody tr th:only-of-type {\n",
       "        vertical-align: middle;\n",
       "    }\n",
       "\n",
       "    .dataframe tbody tr th {\n",
       "        vertical-align: top;\n",
       "    }\n",
       "\n",
       "    .dataframe thead th {\n",
       "        text-align: right;\n",
       "    }\n",
       "</style>\n",
       "<table border=\"1\" class=\"dataframe\">\n",
       "  <thead>\n",
       "    <tr style=\"text-align: right;\">\n",
       "      <th></th>\n",
       "      <th>image_id</th>\n",
       "      <th>label</th>\n",
       "    </tr>\n",
       "  </thead>\n",
       "  <tbody>\n",
       "    <tr>\n",
       "      <th>0</th>\n",
       "      <td>1000015157.jpg</td>\n",
       "      <td>0</td>\n",
       "    </tr>\n",
       "    <tr>\n",
       "      <th>1</th>\n",
       "      <td>1000201771.jpg</td>\n",
       "      <td>3</td>\n",
       "    </tr>\n",
       "    <tr>\n",
       "      <th>2</th>\n",
       "      <td>100042118.jpg</td>\n",
       "      <td>1</td>\n",
       "    </tr>\n",
       "    <tr>\n",
       "      <th>3</th>\n",
       "      <td>1000723321.jpg</td>\n",
       "      <td>1</td>\n",
       "    </tr>\n",
       "    <tr>\n",
       "      <th>4</th>\n",
       "      <td>1000812911.jpg</td>\n",
       "      <td>3</td>\n",
       "    </tr>\n",
       "  </tbody>\n",
       "</table>\n",
       "</div>"
      ],
      "text/plain": [
       "         image_id  label\n",
       "0  1000015157.jpg      0\n",
       "1  1000201771.jpg      3\n",
       "2   100042118.jpg      1\n",
       "3  1000723321.jpg      1\n",
       "4  1000812911.jpg      3"
      ]
     },
     "execution_count": 3,
     "metadata": {},
     "output_type": "execute_result"
    }
   ],
   "source": [
    "train_table = pd.read_csv('train.csv')\n",
    "train_table.head()"
   ]
  },
  {
   "cell_type": "code",
   "execution_count": 4,
   "metadata": {},
   "outputs": [
    {
     "data": {
      "text/plain": [
       "(21396, 2)"
      ]
     },
     "execution_count": 4,
     "metadata": {},
     "output_type": "execute_result"
    }
   ],
   "source": [
    "train_table.shape"
   ]
  },
  {
   "cell_type": "code",
   "execution_count": 5,
   "metadata": {},
   "outputs": [
    {
     "data": {
      "text/plain": [
       "3    13158\n",
       "4     2576\n",
       "2     2386\n",
       "1     2189\n",
       "0     1087\n",
       "Name: label, dtype: int64"
      ]
     },
     "execution_count": 5,
     "metadata": {},
     "output_type": "execute_result"
    }
   ],
   "source": [
    "train_table['label'].value_counts()"
   ]
  },
  {
   "cell_type": "code",
   "execution_count": 6,
   "metadata": {},
   "outputs": [],
   "source": [
    "train_paths = [os.path.join(train_root, file) for file in train_table['image_id']]\n",
    "train_labels = train_table['label'].values"
   ]
  },
  {
   "cell_type": "code",
   "execution_count": 7,
   "metadata": {},
   "outputs": [
    {
     "name": "stderr",
     "output_type": "stream",
     "text": [
      "C:\\Users\\woqip\\anaconda3\\lib\\site-packages\\torchvision\\transforms\\transforms.py:285: UserWarning: The use of the transforms.Scale transform is deprecated, please use transforms.Resize instead.\n",
      "  warnings.warn(\"The use of the transforms.Scale transform is deprecated, \" +\n"
     ]
    }
   ],
   "source": [
    "normalize = transforms.Normalize(\n",
    "    mean=[0.485, 0.456, 0.406],\n",
    "    std=[0.229, 0.224, 0.225]\n",
    ")\n",
    "preprocess = transforms.Compose([\n",
    "    transforms.Scale(256),\n",
    "    transforms.CenterCrop(224),\n",
    "    transforms.ToTensor(),\n",
    "    normalize\n",
    "])\n",
    "\n",
    "def default_loader(path):\n",
    "    img_pil =  Image.open(path)\n",
    "    img_pil = img_pil.resize((224,224))\n",
    "    img_tensor = preprocess(img_pil)\n",
    "    return img_tensor"
   ]
  },
  {
   "cell_type": "code",
   "execution_count": 8,
   "metadata": {},
   "outputs": [],
   "source": [
    "class MyDataset(Dataset):\n",
    "    def __init__(self, img_paths, labels, loader=default_loader):\n",
    "        self.img_paths = img_paths\n",
    "        self.labels = labels\n",
    "        self.loader = loader\n",
    "        \n",
    "    def __getitem__(self, index):\n",
    "        img_path, label = self.img_paths[index], self.labels[index]\n",
    "        img = self.loader(img_path)\n",
    "        \n",
    "        return img, label\n",
    "    \n",
    "    def __len__(self):\n",
    "        return len(self.labels)"
   ]
  },
  {
   "cell_type": "code",
   "execution_count": 9,
   "metadata": {},
   "outputs": [
    {
     "data": {
      "text/plain": [
       "array([17116.8,  1069.8,  3209.4])"
      ]
     },
     "execution_count": 9,
     "metadata": {},
     "output_type": "execute_result"
    }
   ],
   "source": [
    "dataset = MyDataset(train_paths, train_labels)\n",
    "len(dataset)*np.array([0.8,0.05,0.15])"
   ]
  },
  {
   "cell_type": "code",
   "execution_count": 10,
   "metadata": {},
   "outputs": [],
   "source": [
    "train_dataset, val_dataset, test_dataset = random_split(dataset, [17000 ,  1070,  3326], generator=torch.Generator().manual_seed(random_seed))"
   ]
  },
  {
   "cell_type": "code",
   "execution_count": 11,
   "metadata": {},
   "outputs": [],
   "source": [
    "train_loader = DataLoader(train_dataset, batch_size=batch_size)\n",
    "valid_loader = DataLoader(val_dataset, batch_size=batch_size)\n",
    "test_loader = DataLoader(test_dataset, batch_size=batch_size)"
   ]
  },
  {
   "cell_type": "code",
   "execution_count": null,
   "metadata": {},
   "outputs": [],
   "source": []
  },
  {
   "cell_type": "code",
   "execution_count": 12,
   "metadata": {},
   "outputs": [
    {
     "name": "stderr",
     "output_type": "stream",
     "text": [
      "Using cache found in C:\\Users\\woqip/.cache\\torch\\hub\\pytorch_vision_v0.9.0\n"
     ]
    }
   ],
   "source": [
    "model = torch.hub.load('pytorch/vision:v0.9.0', 'googlenet', pretrained=True)\n",
    "model = model.to(device)"
   ]
  },
  {
   "cell_type": "code",
   "execution_count": 13,
   "metadata": {},
   "outputs": [],
   "source": [
    "optimizer = torch.optim.Adam(model.parameters(), lr=0.0001)\n",
    "scheduler = torch.optim.lr_scheduler.ReduceLROnPlateau(optimizer,\n",
    "                                                       factor=0.1,\n",
    "                                                       mode='max',\n",
    "                                                       verbose=True)"
   ]
  },
  {
   "cell_type": "code",
   "execution_count": 14,
   "metadata": {},
   "outputs": [
    {
     "name": "stdout",
     "output_type": "stream",
     "text": [
      "Epoch: 001/015 | Batch 0000/0340 | Loss: 7.7670\n",
      "Epoch: 001/015 | Batch 0100/0340 | Loss: 1.0785\n",
      "Epoch: 001/015 | Batch 0200/0340 | Loss: 0.5602\n",
      "Epoch: 001/015 | Batch 0300/0340 | Loss: 0.6413\n",
      "Epoch: 001/015 | Train: 86.17% | Validation: 80.00%\n",
      "Time elapsed: 6.91 min\n",
      "Epoch: 002/015 | Batch 0000/0340 | Loss: 0.5399\n",
      "Epoch: 002/015 | Batch 0100/0340 | Loss: 0.5781\n",
      "Epoch: 002/015 | Batch 0200/0340 | Loss: 0.2608\n",
      "Epoch: 002/015 | Batch 0300/0340 | Loss: 0.3648\n",
      "Epoch: 002/015 | Train: 94.36% | Validation: 81.50%\n",
      "Time elapsed: 13.76 min\n",
      "Epoch: 003/015 | Batch 0000/0340 | Loss: 0.2720\n",
      "Epoch: 003/015 | Batch 0100/0340 | Loss: 0.1645\n",
      "Epoch: 003/015 | Batch 0200/0340 | Loss: 0.1208\n",
      "Epoch: 003/015 | Batch 0300/0340 | Loss: 0.1472\n",
      "Epoch: 003/015 | Train: 98.38% | Validation: 79.72%\n",
      "Time elapsed: 20.65 min\n",
      "Epoch: 004/015 | Batch 0000/0340 | Loss: 0.0433\n",
      "Epoch: 004/015 | Batch 0100/0340 | Loss: 0.0309\n",
      "Epoch: 004/015 | Batch 0200/0340 | Loss: 0.0258\n",
      "Epoch: 004/015 | Batch 0300/0340 | Loss: 0.0144\n",
      "Epoch: 004/015 | Train: 99.45% | Validation: 79.72%\n",
      "Time elapsed: 27.50 min\n",
      "Epoch: 005/015 | Batch 0000/0340 | Loss: 0.0193\n",
      "Epoch: 005/015 | Batch 0100/0340 | Loss: 0.0090\n",
      "Epoch: 005/015 | Batch 0200/0340 | Loss: 0.0061\n",
      "Epoch: 005/015 | Batch 0300/0340 | Loss: 0.0053\n",
      "Epoch: 005/015 | Train: 99.81% | Validation: 81.31%\n",
      "Time elapsed: 34.32 min\n",
      "Epoch: 006/015 | Batch 0000/0340 | Loss: 0.0050\n",
      "Epoch: 006/015 | Batch 0100/0340 | Loss: 0.0045\n",
      "Epoch: 006/015 | Batch 0200/0340 | Loss: 0.0035\n",
      "Epoch: 006/015 | Batch 0300/0340 | Loss: 0.0024\n",
      "Epoch: 006/015 | Train: 99.99% | Validation: 81.12%\n",
      "Time elapsed: 41.19 min\n",
      "Epoch: 007/015 | Batch 0000/0340 | Loss: 0.0020\n",
      "Epoch: 007/015 | Batch 0100/0340 | Loss: 0.0018\n",
      "Epoch: 007/015 | Batch 0200/0340 | Loss: 0.0018\n",
      "Epoch: 007/015 | Batch 0300/0340 | Loss: 0.0012\n",
      "Epoch: 007/015 | Train: 99.99% | Validation: 81.21%\n",
      "Time elapsed: 48.72 min\n",
      "Epoch: 008/015 | Batch 0000/0340 | Loss: 0.0009\n",
      "Epoch: 008/015 | Batch 0100/0340 | Loss: 0.0011\n",
      "Epoch: 008/015 | Batch 0200/0340 | Loss: 0.0011\n",
      "Epoch: 008/015 | Batch 0300/0340 | Loss: 0.0007\n",
      "Epoch: 008/015 | Train: 99.99% | Validation: 80.93%\n",
      "Time elapsed: 57.13 min\n",
      "Epoch: 009/015 | Batch 0000/0340 | Loss: 0.0008\n",
      "Epoch: 009/015 | Batch 0100/0340 | Loss: 0.0007\n",
      "Epoch: 009/015 | Batch 0200/0340 | Loss: 0.0008\n",
      "Epoch: 009/015 | Batch 0300/0340 | Loss: 0.0005\n",
      "Epoch: 009/015 | Train: 99.99% | Validation: 81.12%\n",
      "Time elapsed: 66.24 min\n",
      "Epoch: 010/015 | Batch 0000/0340 | Loss: 0.0006\n",
      "Epoch: 010/015 | Batch 0100/0340 | Loss: 0.0005\n",
      "Epoch: 010/015 | Batch 0200/0340 | Loss: 0.0006\n",
      "Epoch: 010/015 | Batch 0300/0340 | Loss: 0.0005\n",
      "Epoch: 010/015 | Train: 99.99% | Validation: 81.03%\n",
      "Time elapsed: 75.34 min\n",
      "Epoch: 011/015 | Batch 0000/0340 | Loss: 0.0004\n",
      "Epoch: 011/015 | Batch 0100/0340 | Loss: 0.0004\n",
      "Epoch: 011/015 | Batch 0200/0340 | Loss: 0.0005\n",
      "Epoch: 011/015 | Batch 0300/0340 | Loss: 0.0003\n",
      "Epoch: 011/015 | Train: 99.99% | Validation: 81.31%\n",
      "Time elapsed: 84.40 min\n",
      "Epoch: 012/015 | Batch 0000/0340 | Loss: 0.0002\n",
      "Epoch: 012/015 | Batch 0100/0340 | Loss: 0.0004\n",
      "Epoch: 012/015 | Batch 0200/0340 | Loss: 0.0003\n",
      "Epoch: 012/015 | Batch 0300/0340 | Loss: 0.0003\n",
      "Epoch: 012/015 | Train: 99.99% | Validation: 81.12%\n",
      "Time elapsed: 93.45 min\n",
      "Epoch: 013/015 | Batch 0000/0340 | Loss: 0.0002\n",
      "Epoch: 013/015 | Batch 0100/0340 | Loss: 0.0003\n",
      "Epoch: 013/015 | Batch 0200/0340 | Loss: 0.0004\n",
      "Epoch: 013/015 | Batch 0300/0340 | Loss: 0.0002\n",
      "Epoch: 013/015 | Train: 99.99% | Validation: 81.21%\n",
      "Time elapsed: 101.81 min\n",
      "Epoch    13: reducing learning rate of group 0 to 1.0000e-05.\n",
      "Epoch: 014/015 | Batch 0000/0340 | Loss: 0.0002\n",
      "Epoch: 014/015 | Batch 0100/0340 | Loss: 0.0002\n",
      "Epoch: 014/015 | Batch 0200/0340 | Loss: 0.0002\n",
      "Epoch: 014/015 | Batch 0300/0340 | Loss: 0.0002\n",
      "Epoch: 014/015 | Train: 99.99% | Validation: 81.31%\n",
      "Time elapsed: 108.59 min\n",
      "Epoch: 015/015 | Batch 0000/0340 | Loss: 0.0002\n",
      "Epoch: 015/015 | Batch 0100/0340 | Loss: 0.0002\n",
      "Epoch: 015/015 | Batch 0200/0340 | Loss: 0.0002\n",
      "Epoch: 015/015 | Batch 0300/0340 | Loss: 0.0002\n",
      "Epoch: 015/015 | Train: 99.99% | Validation: 81.40%\n",
      "Time elapsed: 115.44 min\n",
      "Total Training Time: 115.44 min\n",
      "Test accuracy 80.52%\n"
     ]
    },
    {
     "data": {
      "image/png": "[encoded data removed]",
      "text/plain": [
       "<Figure size 432x288 with 2 Axes>"
      ]
     },
     "metadata": {
      "needs_background": "light"
     },
     "output_type": "display_data"
    },
    {
     "data": {
      "image/png": "[encoded data removed]",
      "text/plain": [
       "<Figure size 432x288 with 1 Axes>"
      ]
     },
     "metadata": {
      "needs_background": "light"
     },
     "output_type": "display_data"
    }
   ],
   "source": [
    "\n",
    "minibatch_loss_list, train_acc_list, valid_acc_list = train_model(\n",
    "    model=model,\n",
    "    num_epochs=NUM_EPOCHS,\n",
    "    train_loader=train_loader,\n",
    "    valid_loader=valid_loader,\n",
    "    test_loader=test_loader,\n",
    "    optimizer=optimizer,\n",
    "    device=device,\n",
    "    scheduler=scheduler,\n",
    "    scheduler_on='valid_acc',\n",
    "    logging_interval=100)\n",
    "\n",
    "plot_training_loss(minibatch_loss_list=minibatch_loss_list,\n",
    "                   num_epochs=NUM_EPOCHS,\n",
    "                   iter_per_epoch=len(train_loader),\n",
    "                   results_dir=None,\n",
    "                   averaging_iterations=200)\n",
    "plt.show()\n",
    "\n",
    "plot_accuracy(train_acc_list=train_acc_list,\n",
    "              valid_acc_list=valid_acc_list,\n",
    "              results_dir=None)\n",
    "plt.ylim([60, 100])\n",
    "plt.show()"
   ]
  },
  {
   "cell_type": "code",
   "execution_count": 15,
   "metadata": {},
   "outputs": [
    {
     "name": "stdout",
     "output_type": "stream",
     "text": [
      "|===========================================================================|\n",
      "|                  PyTorch CUDA memory summary, device ID 0                 |\n",
      "|---------------------------------------------------------------------------|\n",
      "|            CUDA OOMs: 0            |        cudaMalloc retries: 0         |\n",
      "|===========================================================================|\n",
      "|        Metric         | Cur Usage  | Peak Usage | Tot Alloc  | Tot Freed  |\n",
      "|---------------------------------------------------------------------------|\n",
      "| Allocated memory      |  105948 KB |    2808 MB |   67159 GB |   67159 GB |\n",
      "|       from large pool |   58432 KB |    2755 MB |   66766 GB |   66766 GB |\n",
      "|       from small pool |   47516 KB |      53 MB |     392 GB |     392 GB |\n",
      "|---------------------------------------------------------------------------|\n",
      "| Active memory         |  105948 KB |    2808 MB |   67159 GB |   67159 GB |\n",
      "|       from large pool |   58432 KB |    2755 MB |   66766 GB |   66766 GB |\n",
      "|       from small pool |   47516 KB |      53 MB |     392 GB |     392 GB |\n",
      "|---------------------------------------------------------------------------|\n",
      "| GPU reserved memory   |    3076 MB |    3076 MB |    3076 MB |       0 B  |\n",
      "|       from large pool |    3020 MB |    3020 MB |    3020 MB |       0 B  |\n",
      "|       from small pool |      56 MB |      56 MB |      56 MB |       0 B  |\n",
      "|---------------------------------------------------------------------------|\n",
      "| Non-releasable memory |  291363 KB |  599055 KB |   35370 GB |   35370 GB |\n",
      "|       from large pool |  287680 KB |  598451 KB |   34955 GB |   34954 GB |\n",
      "|       from small pool |    3683 KB |    7583 KB |     415 GB |     415 GB |\n",
      "|---------------------------------------------------------------------------|\n",
      "| Allocations           |     863    |    1139    |    7320 K  |    7319 K  |\n",
      "|       from large pool |      28    |     170    |    3096 K  |    3096 K  |\n",
      "|       from small pool |     835    |     970    |    4224 K  |    4223 K  |\n",
      "|---------------------------------------------------------------------------|\n",
      "| Active allocs         |     863    |    1139    |    7320 K  |    7319 K  |\n",
      "|       from large pool |      28    |     170    |    3096 K  |    3096 K  |\n",
      "|       from small pool |     835    |     970    |    4224 K  |    4223 K  |\n",
      "|---------------------------------------------------------------------------|\n",
      "| GPU reserved segments |      83    |      83    |      83    |       0    |\n",
      "|       from large pool |      55    |      55    |      55    |       0    |\n",
      "|       from small pool |      28    |      28    |      28    |       0    |\n",
      "|---------------------------------------------------------------------------|\n",
      "| Non-releasable allocs |      81    |      99    |    4392 K  |    4392 K  |\n",
      "|       from large pool |       8    |      29    |    1786 K  |    1786 K  |\n",
      "|       from small pool |      73    |      89    |    2606 K  |    2606 K  |\n",
      "|===========================================================================|\n",
      "\n"
     ]
    }
   ],
   "source": [
    "print(torch.cuda.memory_summary())"
   ]
  },
  {
   "cell_type": "code",
   "execution_count": 16,
   "metadata": {},
   "outputs": [],
   "source": [
    "torch.cuda.empty_cache()"
   ]
  }
 ],
 "metadata": {
  "kernelspec": {
   "display_name": "Python 3",
   "language": "python",
   "name": "python3"
  },
  "language_info": {
   "codemirror_mode": {
    "name": "ipython",
    "version": 3
   },
   "file_extension": ".py",
   "mimetype": "text/x-python",
   "name": "python",
   "nbconvert_exporter": "python",
   "pygments_lexer": "ipython3",
   "version": "3.8.5"
  }
 },
 "nbformat": 4,
 "nbformat_minor": 4
}
