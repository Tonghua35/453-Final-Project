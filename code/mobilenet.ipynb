{
 "cells": [
  {
   "cell_type": "code",
   "execution_count": 1,
   "metadata": {},
   "outputs": [],
   "source": [
    "import os\n",
    "import random\n",
    "\n",
    "import pandas as pd\n",
    "import numpy as np\n",
    "from PIL import Image\n",
    "import matplotlib.pyplot as plt\n",
    "import torch\n",
    "import torchvision\n",
    "\n",
    "from torch.utils.data import DataLoader, Dataset, random_split\n",
    "from torchvision import datasets, transforms\n",
    "\n",
    "from helper_evaluation import set_all_seeds, compute_confusion_matrix\n",
    "from helper_train import train_model\n",
    "from helper_plotting import plot_training_loss, plot_accuracy, show_examples, plot_confusion_matrix\n",
    "from helper_dataset import UnNormalize"
   ]
  },
  {
   "cell_type": "code",
   "execution_count": 2,
   "metadata": {},
   "outputs": [],
   "source": [
    "torch.cuda.empty_cache()\n",
    "random_seed = 42\n",
    "train_root = 'train_images'\n",
    "NUM_EPOCHS = 30\n",
    "device = torch.device('cuda:0' if torch.cuda.is_available() else 'cpu')\n",
    "\n",
    "set_all_seeds(random_seed)"
   ]
  },
  {
   "cell_type": "code",
   "execution_count": 3,
   "metadata": {},
   "outputs": [
    {
     "data": {
      "text/html": [
       "<div>\n",
       "<style scoped>\n",
       "    .dataframe tbody tr th:only-of-type {\n",
       "        vertical-align: middle;\n",
       "    }\n",
       "\n",
       "    .dataframe tbody tr th {\n",
       "        vertical-align: top;\n",
       "    }\n",
       "\n",
       "    .dataframe thead th {\n",
       "        text-align: right;\n",
       "    }\n",
       "</style>\n",
       "<table border=\"1\" class=\"dataframe\">\n",
       "  <thead>\n",
       "    <tr style=\"text-align: right;\">\n",
       "      <th></th>\n",
       "      <th>image_id</th>\n",
       "      <th>label</th>\n",
       "    </tr>\n",
       "  </thead>\n",
       "  <tbody>\n",
       "    <tr>\n",
       "      <th>0</th>\n",
       "      <td>1000015157.jpg</td>\n",
       "      <td>0</td>\n",
       "    </tr>\n",
       "    <tr>\n",
       "      <th>1</th>\n",
       "      <td>1000201771.jpg</td>\n",
       "      <td>3</td>\n",
       "    </tr>\n",
       "    <tr>\n",
       "      <th>2</th>\n",
       "      <td>100042118.jpg</td>\n",
       "      <td>1</td>\n",
       "    </tr>\n",
       "    <tr>\n",
       "      <th>3</th>\n",
       "      <td>1000723321.jpg</td>\n",
       "      <td>1</td>\n",
       "    </tr>\n",
       "    <tr>\n",
       "      <th>4</th>\n",
       "      <td>1000812911.jpg</td>\n",
       "      <td>3</td>\n",
       "    </tr>\n",
       "  </tbody>\n",
       "</table>\n",
       "</div>"
      ],
      "text/plain": [
       "         image_id  label\n",
       "0  1000015157.jpg      0\n",
       "1  1000201771.jpg      3\n",
       "2   100042118.jpg      1\n",
       "3  1000723321.jpg      1\n",
       "4  1000812911.jpg      3"
      ]
     },
     "execution_count": 3,
     "metadata": {},
     "output_type": "execute_result"
    }
   ],
   "source": [
    "train_table = pd.read_csv('train.csv')\n",
    "train_table.head()"
   ]
  },
  {
   "cell_type": "code",
   "execution_count": 4,
   "metadata": {},
   "outputs": [
    {
     "data": {
      "text/plain": [
       "(21397, 2)"
      ]
     },
     "execution_count": 4,
     "metadata": {},
     "output_type": "execute_result"
    }
   ],
   "source": [
    "train_table.shape"
   ]
  },
  {
   "cell_type": "code",
   "execution_count": 5,
   "metadata": {},
   "outputs": [
    {
     "data": {
      "text/plain": [
       "3    13158\n",
       "4     2577\n",
       "2     2386\n",
       "1     2189\n",
       "0     1087\n",
       "Name: label, dtype: int64"
      ]
     },
     "execution_count": 5,
     "metadata": {},
     "output_type": "execute_result"
    }
   ],
   "source": [
    "train_table['label'].value_counts()"
   ]
  },
  {
   "cell_type": "code",
   "execution_count": 6,
   "metadata": {},
   "outputs": [],
   "source": [
    "train_paths = [os.path.join(train_root, file) for file in train_table['image_id']]\n",
    "train_labels = train_table['label'].values"
   ]
  },
  {
   "cell_type": "code",
   "execution_count": 7,
   "metadata": {},
   "outputs": [],
   "source": [
    "# sizes = set()\n",
    "# modes = set()\n",
    "# for path in train_paths:\n",
    "#     pic = Image.open(path)\n",
    "#     sizes.add(pic.size)\n",
    "#     modes.add(pic.mode)\n",
    "# print(sizes)\n",
    "# print(modes)"
   ]
  },
  {
   "cell_type": "code",
   "execution_count": 8,
   "metadata": {},
   "outputs": [],
   "source": [
    "normalize = transforms.Normalize(\n",
    "    mean=[0.485, 0.456, 0.406],\n",
    "    std=[0.229, 0.224, 0.225]\n",
    ")\n",
    "preprocess = transforms.Compose([\n",
    "    #transforms.Scale(256),\n",
    "    #transforms.CenterCrop(224),\n",
    "    transforms.ToTensor(),\n",
    "    normalize\n",
    "])\n",
    "\n",
    "def default_loader(path):\n",
    "    img_pil =  Image.open(path)\n",
    "    img_pil = img_pil.resize((400,300))\n",
    "    img_tensor = preprocess(img_pil)\n",
    "    return img_tensor"
   ]
  },
  {
   "cell_type": "code",
   "execution_count": 9,
   "metadata": {},
   "outputs": [],
   "source": [
    "class MyDataset(Dataset):\n",
    "    def __init__(self, img_paths, labels, loader=default_loader):\n",
    "        self.img_paths = img_paths\n",
    "        self.labels = labels\n",
    "        self.loader = loader\n",
    "        \n",
    "    def __getitem__(self, index):\n",
    "        img_path, label = self.img_paths[index], self.labels[index]\n",
    "        img = self.loader(img_path)\n",
    "        \n",
    "        return img, label\n",
    "    \n",
    "    def __len__(self):\n",
    "        return len(self.labels)"
   ]
  },
  {
   "cell_type": "code",
   "execution_count": 10,
   "metadata": {},
   "outputs": [
    {
     "data": {
      "text/plain": [
       "array([17117.6 ,  1069.85,  3209.55])"
      ]
     },
     "execution_count": 10,
     "metadata": {},
     "output_type": "execute_result"
    }
   ],
   "source": [
    "dataset = MyDataset(train_paths, train_labels)\n",
    "len(dataset)*np.array([0.8,0.05,0.15])"
   ]
  },
  {
   "cell_type": "code",
   "execution_count": 11,
   "metadata": {},
   "outputs": [],
   "source": [
    "train_dataset, val_dataset, test_dataset = random_split(dataset, [17118 ,  1070,  3209], generator=torch.Generator().manual_seed(random_seed))"
   ]
  },
  {
   "cell_type": "code",
   "execution_count": 20,
   "metadata": {},
   "outputs": [],
   "source": [
    "batch_size = 8\n",
    "train_loader = DataLoader(train_dataset, batch_size=batch_size, shuffle=True)\n",
    "valid_loader = DataLoader(val_dataset, batch_size=batch_size)\n",
    "test_loader = DataLoader(test_dataset, batch_size=batch_size)"
   ]
  },
  {
   "cell_type": "code",
   "execution_count": 21,
   "metadata": {},
   "outputs": [],
   "source": [
    "model = torchvision.models.mobilenet_v3_small(pretrained=True)\n",
    "model = model.to(device)"
   ]
  },
  {
   "cell_type": "code",
   "execution_count": 22,
   "metadata": {},
   "outputs": [],
   "source": [
    "optimizer = torch.optim.SGD(model.parameters(), momentum=0.7, lr=0.001)\n",
    "scheduler = torch.optim.lr_scheduler.ReduceLROnPlateau(optimizer,\n",
    "                                                       factor=0.1,\n",
    "                                                       mode='max',\n",
    "                                                       verbose=True)"
   ]
  },
  {
   "cell_type": "code",
   "execution_count": 23,
   "metadata": {},
   "outputs": [
    {
     "name": "stdout",
     "output_type": "stream",
     "text": [
      "Epoch: 001/030 | Batch 0000/2140 | Loss: 7.8412\n",
      "Epoch: 001/030 | Batch 0100/2140 | Loss: 1.5714\n",
      "Epoch: 001/030 | Batch 0200/2140 | Loss: 0.9954\n",
      "Epoch: 001/030 | Batch 0300/2140 | Loss: 2.1475\n",
      "Epoch: 001/030 | Batch 0400/2140 | Loss: 0.5442\n",
      "Epoch: 001/030 | Batch 0500/2140 | Loss: 0.7882\n",
      "Epoch: 001/030 | Batch 0600/2140 | Loss: 0.8753\n",
      "Epoch: 001/030 | Batch 0700/2140 | Loss: 0.7765\n",
      "Epoch: 001/030 | Batch 0800/2140 | Loss: 0.7470\n",
      "Epoch: 001/030 | Batch 0900/2140 | Loss: 0.6905\n",
      "Epoch: 001/030 | Batch 1000/2140 | Loss: 0.1754\n",
      "Epoch: 001/030 | Batch 1100/2140 | Loss: 0.6621\n",
      "Epoch: 001/030 | Batch 1200/2140 | Loss: 0.3815\n",
      "Epoch: 001/030 | Batch 1300/2140 | Loss: 0.5164\n",
      "Epoch: 001/030 | Batch 1400/2140 | Loss: 0.6187\n",
      "Epoch: 001/030 | Batch 1500/2140 | Loss: 0.4262\n",
      "Epoch: 001/030 | Batch 1600/2140 | Loss: 0.2149\n",
      "Epoch: 001/030 | Batch 1700/2140 | Loss: 0.1297\n",
      "Epoch: 001/030 | Batch 1800/2140 | Loss: 0.8074\n",
      "Epoch: 001/030 | Batch 1900/2140 | Loss: 0.9240\n",
      "Epoch: 001/030 | Batch 2000/2140 | Loss: 0.1890\n",
      "Epoch: 001/030 | Batch 2100/2140 | Loss: 0.7684\n",
      "Epoch: 001/030 | Train: 70.06% | Validation: 71.40%\n",
      "Time elapsed: 11.66 min\n",
      "Epoch: 002/030 | Batch 0000/2140 | Loss: 0.5792\n",
      "Epoch: 002/030 | Batch 0100/2140 | Loss: 0.4145\n",
      "Epoch: 002/030 | Batch 0200/2140 | Loss: 0.3430\n",
      "Epoch: 002/030 | Batch 0300/2140 | Loss: 0.6150\n",
      "Epoch: 002/030 | Batch 0400/2140 | Loss: 0.3111\n",
      "Epoch: 002/030 | Batch 0500/2140 | Loss: 0.8346\n",
      "Epoch: 002/030 | Batch 0600/2140 | Loss: 0.4788\n",
      "Epoch: 002/030 | Batch 0700/2140 | Loss: 0.4039\n",
      "Epoch: 002/030 | Batch 0800/2140 | Loss: 0.5579\n",
      "Epoch: 002/030 | Batch 0900/2140 | Loss: 0.6799\n",
      "Epoch: 002/030 | Batch 1000/2140 | Loss: 0.1271\n",
      "Epoch: 002/030 | Batch 1100/2140 | Loss: 0.7161\n",
      "Epoch: 002/030 | Batch 1200/2140 | Loss: 0.5372\n",
      "Epoch: 002/030 | Batch 1300/2140 | Loss: 0.5126\n",
      "Epoch: 002/030 | Batch 1400/2140 | Loss: 0.3705\n",
      "Epoch: 002/030 | Batch 1500/2140 | Loss: 1.9305\n",
      "Epoch: 002/030 | Batch 1600/2140 | Loss: 0.6758\n",
      "Epoch: 002/030 | Batch 1700/2140 | Loss: 0.3654\n",
      "Epoch: 002/030 | Batch 1800/2140 | Loss: 0.6634\n",
      "Epoch: 002/030 | Batch 1900/2140 | Loss: 0.1400\n",
      "Epoch: 002/030 | Batch 2000/2140 | Loss: 0.6335\n",
      "Epoch: 002/030 | Batch 2100/2140 | Loss: 0.5377\n",
      "Epoch: 002/030 | Train: 82.74% | Validation: 82.62%\n",
      "Time elapsed: 22.95 min\n",
      "Epoch: 003/030 | Batch 0000/2140 | Loss: 1.1017\n",
      "Epoch: 003/030 | Batch 0100/2140 | Loss: 0.1268\n",
      "Epoch: 003/030 | Batch 0200/2140 | Loss: 0.1366\n",
      "Epoch: 003/030 | Batch 0300/2140 | Loss: 0.0991\n",
      "Epoch: 003/030 | Batch 0400/2140 | Loss: 1.2079\n",
      "Epoch: 003/030 | Batch 0500/2140 | Loss: 0.2688\n",
      "Epoch: 003/030 | Batch 0600/2140 | Loss: 0.4755\n",
      "Epoch: 003/030 | Batch 0700/2140 | Loss: 0.6272\n",
      "Epoch: 003/030 | Batch 0800/2140 | Loss: 0.4267\n",
      "Epoch: 003/030 | Batch 0900/2140 | Loss: 0.4928\n",
      "Epoch: 003/030 | Batch 1000/2140 | Loss: 0.5072\n",
      "Epoch: 003/030 | Batch 1100/2140 | Loss: 0.5223\n",
      "Epoch: 003/030 | Batch 1200/2140 | Loss: 0.1990\n",
      "Epoch: 003/030 | Batch 1300/2140 | Loss: 0.2700\n",
      "Epoch: 003/030 | Batch 1400/2140 | Loss: 1.1346\n",
      "Epoch: 003/030 | Batch 1500/2140 | Loss: 0.5914\n",
      "Epoch: 003/030 | Batch 1600/2140 | Loss: 0.5152\n",
      "Epoch: 003/030 | Batch 1700/2140 | Loss: 0.4970\n",
      "Epoch: 003/030 | Batch 1800/2140 | Loss: 0.4620\n",
      "Epoch: 003/030 | Batch 1900/2140 | Loss: 0.5041\n",
      "Epoch: 003/030 | Batch 2000/2140 | Loss: 0.1616\n",
      "Epoch: 003/030 | Batch 2100/2140 | Loss: 1.0474\n",
      "Epoch: 003/030 | Train: 85.64% | Validation: 84.11%\n",
      "Time elapsed: 34.60 min\n",
      "Epoch: 004/030 | Batch 0000/2140 | Loss: 0.7317\n",
      "Epoch: 004/030 | Batch 0100/2140 | Loss: 0.4469\n",
      "Epoch: 004/030 | Batch 0200/2140 | Loss: 0.2436\n",
      "Epoch: 004/030 | Batch 0300/2140 | Loss: 0.3840\n",
      "Epoch: 004/030 | Batch 0400/2140 | Loss: 0.2195\n",
      "Epoch: 004/030 | Batch 0500/2140 | Loss: 0.2308\n",
      "Epoch: 004/030 | Batch 0600/2140 | Loss: 0.5311\n",
      "Epoch: 004/030 | Batch 0700/2140 | Loss: 0.4947\n",
      "Epoch: 004/030 | Batch 0800/2140 | Loss: 0.8179\n",
      "Epoch: 004/030 | Batch 0900/2140 | Loss: 0.2843\n",
      "Epoch: 004/030 | Batch 1000/2140 | Loss: 0.2702\n",
      "Epoch: 004/030 | Batch 1100/2140 | Loss: 0.6487\n",
      "Epoch: 004/030 | Batch 1200/2140 | Loss: 0.6849\n",
      "Epoch: 004/030 | Batch 1300/2140 | Loss: 0.3569\n",
      "Epoch: 004/030 | Batch 1400/2140 | Loss: 0.4806\n",
      "Epoch: 004/030 | Batch 1500/2140 | Loss: 0.2779\n",
      "Epoch: 004/030 | Batch 1600/2140 | Loss: 0.3771\n",
      "Epoch: 004/030 | Batch 1700/2140 | Loss: 0.4307\n",
      "Epoch: 004/030 | Batch 1800/2140 | Loss: 0.6679\n",
      "Epoch: 004/030 | Batch 1900/2140 | Loss: 0.6296\n",
      "Epoch: 004/030 | Batch 2000/2140 | Loss: 1.0197\n",
      "Epoch: 004/030 | Batch 2100/2140 | Loss: 0.3145\n",
      "Epoch: 004/030 | Train: 87.00% | Validation: 84.86%\n",
      "Time elapsed: 46.70 min\n",
      "Epoch: 005/030 | Batch 0000/2140 | Loss: 0.3272\n",
      "Epoch: 005/030 | Batch 0100/2140 | Loss: 0.8079\n",
      "Epoch: 005/030 | Batch 0200/2140 | Loss: 0.5358\n",
      "Epoch: 005/030 | Batch 0300/2140 | Loss: 0.2824\n",
      "Epoch: 005/030 | Batch 0400/2140 | Loss: 0.1285\n",
      "Epoch: 005/030 | Batch 0500/2140 | Loss: 1.5169\n",
      "Epoch: 005/030 | Batch 0600/2140 | Loss: 0.2500\n",
      "Epoch: 005/030 | Batch 0700/2140 | Loss: 0.1578\n",
      "Epoch: 005/030 | Batch 0800/2140 | Loss: 0.8166\n",
      "Epoch: 005/030 | Batch 0900/2140 | Loss: 0.7710\n",
      "Epoch: 005/030 | Batch 1000/2140 | Loss: 0.4070\n",
      "Epoch: 005/030 | Batch 1100/2140 | Loss: 0.2075\n",
      "Epoch: 005/030 | Batch 1200/2140 | Loss: 0.4374\n",
      "Epoch: 005/030 | Batch 1300/2140 | Loss: 0.7108\n",
      "Epoch: 005/030 | Batch 1400/2140 | Loss: 0.3649\n",
      "Epoch: 005/030 | Batch 1500/2140 | Loss: 0.2600\n",
      "Epoch: 005/030 | Batch 1600/2140 | Loss: 1.1647\n",
      "Epoch: 005/030 | Batch 1700/2140 | Loss: 0.0981\n",
      "Epoch: 005/030 | Batch 1800/2140 | Loss: 0.6298\n",
      "Epoch: 005/030 | Batch 1900/2140 | Loss: 0.1400\n",
      "Epoch: 005/030 | Batch 2000/2140 | Loss: 0.1997\n",
      "Epoch: 005/030 | Batch 2100/2140 | Loss: 0.6009\n",
      "Epoch: 005/030 | Train: 87.78% | Validation: 85.33%\n",
      "Time elapsed: 58.13 min\n",
      "Epoch: 006/030 | Batch 0000/2140 | Loss: 0.1703\n",
      "Epoch: 006/030 | Batch 0100/2140 | Loss: 1.2567\n",
      "Epoch: 006/030 | Batch 0200/2140 | Loss: 0.1455\n",
      "Epoch: 006/030 | Batch 0300/2140 | Loss: 0.1665\n",
      "Epoch: 006/030 | Batch 0400/2140 | Loss: 0.1981\n",
      "Epoch: 006/030 | Batch 0500/2140 | Loss: 0.3295\n",
      "Epoch: 006/030 | Batch 0600/2140 | Loss: 0.0479\n",
      "Epoch: 006/030 | Batch 0700/2140 | Loss: 0.5198\n",
      "Epoch: 006/030 | Batch 0800/2140 | Loss: 0.1786\n",
      "Epoch: 006/030 | Batch 0900/2140 | Loss: 0.2118\n",
      "Epoch: 006/030 | Batch 1000/2140 | Loss: 0.3296\n",
      "Epoch: 006/030 | Batch 1100/2140 | Loss: 0.3242\n",
      "Epoch: 006/030 | Batch 1200/2140 | Loss: 0.0706\n",
      "Epoch: 006/030 | Batch 1300/2140 | Loss: 0.6096\n",
      "Epoch: 006/030 | Batch 1400/2140 | Loss: 0.3906\n",
      "Epoch: 006/030 | Batch 1500/2140 | Loss: 1.3658\n",
      "Epoch: 006/030 | Batch 1600/2140 | Loss: 1.1022\n",
      "Epoch: 006/030 | Batch 1700/2140 | Loss: 0.1818\n",
      "Epoch: 006/030 | Batch 1800/2140 | Loss: 0.2564\n",
      "Epoch: 006/030 | Batch 1900/2140 | Loss: 0.3290\n",
      "Epoch: 006/030 | Batch 2000/2140 | Loss: 0.2670\n",
      "Epoch: 006/030 | Batch 2100/2140 | Loss: 0.6444\n",
      "Epoch: 006/030 | Train: 89.48% | Validation: 85.51%\n",
      "Time elapsed: 69.85 min\n",
      "Epoch: 007/030 | Batch 0000/2140 | Loss: 1.0423\n",
      "Epoch: 007/030 | Batch 0100/2140 | Loss: 0.1464\n",
      "Epoch: 007/030 | Batch 0200/2140 | Loss: 0.5273\n",
      "Epoch: 007/030 | Batch 0300/2140 | Loss: 0.1213\n",
      "Epoch: 007/030 | Batch 0400/2140 | Loss: 0.1331\n",
      "Epoch: 007/030 | Batch 0500/2140 | Loss: 0.1756\n",
      "Epoch: 007/030 | Batch 0600/2140 | Loss: 0.2694\n",
      "Epoch: 007/030 | Batch 0700/2140 | Loss: 0.4371\n",
      "Epoch: 007/030 | Batch 0800/2140 | Loss: 0.6577\n",
      "Epoch: 007/030 | Batch 0900/2140 | Loss: 0.7024\n",
      "Epoch: 007/030 | Batch 1000/2140 | Loss: 1.1008\n",
      "Epoch: 007/030 | Batch 1100/2140 | Loss: 0.5315\n",
      "Epoch: 007/030 | Batch 1200/2140 | Loss: 0.5755\n",
      "Epoch: 007/030 | Batch 1300/2140 | Loss: 0.3386\n",
      "Epoch: 007/030 | Batch 1400/2140 | Loss: 0.1945\n",
      "Epoch: 007/030 | Batch 1500/2140 | Loss: 0.9362\n",
      "Epoch: 007/030 | Batch 1600/2140 | Loss: 0.2170\n",
      "Epoch: 007/030 | Batch 1700/2140 | Loss: 0.9086\n",
      "Epoch: 007/030 | Batch 1800/2140 | Loss: 1.1500\n",
      "Epoch: 007/030 | Batch 1900/2140 | Loss: 0.1060\n",
      "Epoch: 007/030 | Batch 2000/2140 | Loss: 0.2563\n",
      "Epoch: 007/030 | Batch 2100/2140 | Loss: 0.2599\n",
      "Epoch: 007/030 | Train: 90.45% | Validation: 86.07%\n",
      "Time elapsed: 81.97 min\n",
      "Epoch: 008/030 | Batch 0000/2140 | Loss: 0.2708\n",
      "Epoch: 008/030 | Batch 0100/2140 | Loss: 0.1769\n",
      "Epoch: 008/030 | Batch 0200/2140 | Loss: 0.8768\n",
      "Epoch: 008/030 | Batch 0300/2140 | Loss: 0.4130\n",
      "Epoch: 008/030 | Batch 0400/2140 | Loss: 0.3312\n",
      "Epoch: 008/030 | Batch 0500/2140 | Loss: 0.9242\n",
      "Epoch: 008/030 | Batch 0600/2140 | Loss: 0.4696\n",
      "Epoch: 008/030 | Batch 0700/2140 | Loss: 0.3221\n",
      "Epoch: 008/030 | Batch 0800/2140 | Loss: 0.1246\n",
      "Epoch: 008/030 | Batch 0900/2140 | Loss: 0.0758\n",
      "Epoch: 008/030 | Batch 1000/2140 | Loss: 0.5791\n",
      "Epoch: 008/030 | Batch 1100/2140 | Loss: 0.4954\n",
      "Epoch: 008/030 | Batch 1200/2140 | Loss: 0.1420\n",
      "Epoch: 008/030 | Batch 1300/2140 | Loss: 0.2834\n",
      "Epoch: 008/030 | Batch 1400/2140 | Loss: 0.2884\n",
      "Epoch: 008/030 | Batch 1500/2140 | Loss: 0.3558\n",
      "Epoch: 008/030 | Batch 1600/2140 | Loss: 0.4709\n",
      "Epoch: 008/030 | Batch 1700/2140 | Loss: 0.4777\n",
      "Epoch: 008/030 | Batch 1800/2140 | Loss: 0.1193\n",
      "Epoch: 008/030 | Batch 1900/2140 | Loss: 0.2732\n",
      "Epoch: 008/030 | Batch 2000/2140 | Loss: 0.3749\n",
      "Epoch: 008/030 | Batch 2100/2140 | Loss: 0.4821\n",
      "Epoch: 008/030 | Train: 90.52% | Validation: 85.23%\n",
      "Time elapsed: 93.40 min\n",
      "Epoch: 009/030 | Batch 0000/2140 | Loss: 0.1209\n",
      "Epoch: 009/030 | Batch 0100/2140 | Loss: 0.2400\n",
      "Epoch: 009/030 | Batch 0200/2140 | Loss: 0.0853\n",
      "Epoch: 009/030 | Batch 0300/2140 | Loss: 0.1255\n",
      "Epoch: 009/030 | Batch 0400/2140 | Loss: 0.1311\n",
      "Epoch: 009/030 | Batch 0500/2140 | Loss: 0.2228\n",
      "Epoch: 009/030 | Batch 0600/2140 | Loss: 0.6244\n",
      "Epoch: 009/030 | Batch 0700/2140 | Loss: 0.5259\n",
      "Epoch: 009/030 | Batch 0800/2140 | Loss: 0.0925\n",
      "Epoch: 009/030 | Batch 0900/2140 | Loss: 0.3675\n",
      "Epoch: 009/030 | Batch 1000/2140 | Loss: 0.0566\n",
      "Epoch: 009/030 | Batch 1100/2140 | Loss: 0.7452\n",
      "Epoch: 009/030 | Batch 1200/2140 | Loss: 0.1034\n",
      "Epoch: 009/030 | Batch 1300/2140 | Loss: 0.3974\n",
      "Epoch: 009/030 | Batch 1400/2140 | Loss: 0.5416\n",
      "Epoch: 009/030 | Batch 1500/2140 | Loss: 0.4567\n",
      "Epoch: 009/030 | Batch 1600/2140 | Loss: 0.0894\n",
      "Epoch: 009/030 | Batch 1700/2140 | Loss: 0.2320\n",
      "Epoch: 009/030 | Batch 1800/2140 | Loss: 0.0421\n",
      "Epoch: 009/030 | Batch 1900/2140 | Loss: 0.1066\n",
      "Epoch: 009/030 | Batch 2000/2140 | Loss: 0.3466\n",
      "Epoch: 009/030 | Batch 2100/2140 | Loss: 0.3263\n",
      "Epoch: 009/030 | Train: 91.35% | Validation: 84.02%\n",
      "Time elapsed: 105.24 min\n",
      "Early stopping\n",
      "Total Training Time: 105.24 min\n",
      "Test accuracy 81.77%\n"
     ]
    }
   ],
   "source": [
    "minibatch_loss_list, train_acc_list, valid_acc_list = train_model(\n",
    "    model=model,\n",
    "    num_epochs=NUM_EPOCHS,\n",
    "    train_loader=train_loader,\n",
    "    valid_loader=valid_loader,\n",
    "    test_loader=test_loader,\n",
    "    optimizer=optimizer,\n",
    "    device=device,\n",
    "    scheduler=scheduler,\n",
    "    scheduler_on='valid_acc',\n",
    "    logging_interval=100)\n"
   ]
  },
  {
   "cell_type": "code",
   "execution_count": 24,
   "metadata": {},
   "outputs": [
    {
     "data": {
      "image/png": "[encoded data removed]",
      "text/plain": [
       "<Figure size 432x288 with 2 Axes>"
      ]
     },
     "metadata": {
      "needs_background": "light"
     },
     "output_type": "display_data"
    }
   ],
   "source": [
    "plot_training_loss(minibatch_loss_list=minibatch_loss_list,\n",
    "                   num_epochs=NUM_EPOCHS,\n",
    "                   iter_per_epoch=len(train_loader),\n",
    "                   results_dir=None,\n",
    "                   averaging_iterations=200)\n",
    "plt.title('Training Loss of MobileNet')\n",
    "plt.savefig('mobilenetTL.pdf')\n",
    "plt.show()"
   ]
  },
  {
   "cell_type": "code",
   "execution_count": 25,
   "metadata": {},
   "outputs": [
    {
     "data": {
      "image/png": "[encoded data removed]",
      "text/plain": [
       "<Figure size 432x288 with 1 Axes>"
      ]
     },
     "metadata": {
      "needs_background": "light"
     },
     "output_type": "display_data"
    }
   ],
   "source": [
    "plot_accuracy(train_acc_list=train_acc_list,\n",
    "              valid_acc_list=valid_acc_list,\n",
    "              results_dir=None)\n",
    "plt.ylim([40, 100])\n",
    "plt.title('Accuracy of MobileNet')\n",
    "plt.savefig('mobilenetACC.pdf')\n",
    "plt.show()"
   ]
  },
  {
   "cell_type": "code",
   "execution_count": 26,
   "metadata": {},
   "outputs": [
    {
     "data": {
      "image/png": "[encoded data removed]",
      "text/plain": [
       "<Figure size 432x288 with 1 Axes>"
      ]
     },
     "metadata": {
      "needs_background": "light"
     },
     "output_type": "display_data"
    }
   ],
   "source": [
    "class_dict = {0: 'A',\n",
    "              1: 'B',\n",
    "              2: 'C',\n",
    "              3: 'D',\n",
    "              4: 'E',}\n",
    "mat = compute_confusion_matrix(model=model, data_loader=test_loader, device=device)\n",
    "plot_confusion_matrix(mat, class_names=class_dict.values())\n",
    "plt.title('Confusion Matrix of MobileNet Results\\nTest Accuracy: 81.77%')\n",
    "plt.savefig('mobilenetCM.pdf')\n",
    "plt.show()"
   ]
  },
  {
   "cell_type": "code",
   "execution_count": 27,
   "metadata": {},
   "outputs": [],
   "source": [
    "torch.save(model.state_dict(), 'mobilenet.pkl')"
   ]
  },
  {
   "cell_type": "code",
   "execution_count": null,
   "metadata": {},
   "outputs": [],
   "source": []
  }
 ],
 "metadata": {
  "kernelspec": {
   "display_name": "Python 3",
   "language": "python",
   "name": "python3"
  },
  "language_info": {
   "codemirror_mode": {
    "name": "ipython",
    "version": 3
   },
   "file_extension": ".py",
   "mimetype": "text/x-python",
   "name": "python",
   "nbconvert_exporter": "python",
   "pygments_lexer": "ipython3",
   "version": "3.8.3"
  }
 },
 "nbformat": 4,
 "nbformat_minor": 4
}
