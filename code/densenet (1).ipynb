{
 "cells": [
  {
   "cell_type": "code",
   "execution_count": 1,
   "metadata": {},
   "outputs": [],
   "source": [
    "import os\n",
    "import random\n",
    "\n",
    "import pandas as pd\n",
    "import numpy as np\n",
    "from PIL import Image\n",
    "import matplotlib.pyplot as plt\n",
    "import torch\n",
    "import torchvision\n",
    "import re\n",
    "import torch.nn as nn\n",
    "import torch.nn.functional as F\n",
    "import torch.utils.checkpoint as cp\n",
    "from collections import OrderedDict\n",
    "from torch import Tensor\n",
    "from typing import Any, List, Tuple\n",
    "\n",
    "from torch.utils.data import DataLoader, Dataset, random_split\n",
    "from torchvision import datasets, transforms\n",
    "\n",
    "from helper_train import train_model\n",
    "from helper_plotting import plot_training_loss, plot_accuracy, show_examples, plot_confusion_matrix\n",
    "import torchvision.transforms as T\n",
    "import sklearn.utils as utils"
   ]
  },
  {
   "cell_type": "code",
   "execution_count": 2,
   "metadata": {},
   "outputs": [],
   "source": [
    "torch.cuda.empty_cache()\n",
    "random_seed = 42\n",
    "batch_size = 30\n",
    "train_root = 'train_images'\n",
    "NUM_EPOCHS = 35\n",
    "device = torch.device('cuda:0' if torch.cuda.is_available() else 'cpu')"
   ]
  },
  {
   "cell_type": "code",
   "execution_count": 3,
   "metadata": {},
   "outputs": [
    {
     "data": {
      "text/html": [
       "<div>\n",
       "<style scoped>\n",
       "    .dataframe tbody tr th:only-of-type {\n",
       "        vertical-align: middle;\n",
       "    }\n",
       "\n",
       "    .dataframe tbody tr th {\n",
       "        vertical-align: top;\n",
       "    }\n",
       "\n",
       "    .dataframe thead th {\n",
       "        text-align: right;\n",
       "    }\n",
       "</style>\n",
       "<table border=\"1\" class=\"dataframe\">\n",
       "  <thead>\n",
       "    <tr style=\"text-align: right;\">\n",
       "      <th></th>\n",
       "      <th>image_id</th>\n",
       "      <th>label</th>\n",
       "    </tr>\n",
       "  </thead>\n",
       "  <tbody>\n",
       "    <tr>\n",
       "      <th>0</th>\n",
       "      <td>1000015157.jpg</td>\n",
       "      <td>0</td>\n",
       "    </tr>\n",
       "    <tr>\n",
       "      <th>1</th>\n",
       "      <td>1000201771.jpg</td>\n",
       "      <td>3</td>\n",
       "    </tr>\n",
       "    <tr>\n",
       "      <th>2</th>\n",
       "      <td>100042118.jpg</td>\n",
       "      <td>1</td>\n",
       "    </tr>\n",
       "    <tr>\n",
       "      <th>3</th>\n",
       "      <td>1000723321.jpg</td>\n",
       "      <td>1</td>\n",
       "    </tr>\n",
       "    <tr>\n",
       "      <th>4</th>\n",
       "      <td>1000812911.jpg</td>\n",
       "      <td>3</td>\n",
       "    </tr>\n",
       "  </tbody>\n",
       "</table>\n",
       "</div>"
      ],
      "text/plain": [
       "         image_id  label\n",
       "0  1000015157.jpg      0\n",
       "1  1000201771.jpg      3\n",
       "2   100042118.jpg      1\n",
       "3  1000723321.jpg      1\n",
       "4  1000812911.jpg      3"
      ]
     },
     "execution_count": 3,
     "metadata": {},
     "output_type": "execute_result"
    }
   ],
   "source": [
    "train_table = pd.read_csv('train.csv')\n",
    "train_table.head()"
   ]
  },
  {
   "cell_type": "code",
   "execution_count": 4,
   "metadata": {},
   "outputs": [
    {
     "data": {
      "text/plain": [
       "(21396, 2)"
      ]
     },
     "execution_count": 4,
     "metadata": {},
     "output_type": "execute_result"
    }
   ],
   "source": [
    "train_table.shape"
   ]
  },
  {
   "cell_type": "code",
   "execution_count": 5,
   "metadata": {},
   "outputs": [
    {
     "data": {
      "text/plain": [
       "3    13158\n",
       "4     2576\n",
       "2     2386\n",
       "1     2189\n",
       "0     1087\n",
       "Name: label, dtype: int64"
      ]
     },
     "execution_count": 5,
     "metadata": {},
     "output_type": "execute_result"
    }
   ],
   "source": [
    "train_table['label'].value_counts()"
   ]
  },
  {
   "cell_type": "code",
   "execution_count": 6,
   "metadata": {},
   "outputs": [],
   "source": [
    "train_paths = [os.path.join(train_root, file) for file in train_table['image_id']]\n",
    "train_labels = train_table['label'].values"
   ]
  },
  {
   "cell_type": "code",
   "execution_count": 7,
   "metadata": {},
   "outputs": [
    {
     "name": "stderr",
     "output_type": "stream",
     "text": [
      "C:\\Users\\woqip\\anaconda3\\lib\\site-packages\\torchvision\\transforms\\transforms.py:285: UserWarning: The use of the transforms.Scale transform is deprecated, please use transforms.Resize instead.\n",
      "  warnings.warn(\"The use of the transforms.Scale transform is deprecated, \" +\n"
     ]
    }
   ],
   "source": [
    "normalize = transforms.Normalize(\n",
    "     mean=[0.485, 0.456, 0.406],\n",
    "     std=[0.229, 0.224, 0.225]\n",
    " )\n",
    "preprocess = transforms.Compose([\n",
    "    transforms.Scale(256),\n",
    "    transforms.CenterCrop(224),\n",
    "    transforms.ToTensor(),\n",
    "    normalize\n",
    "])\n",
    "\n",
    "def default_loader(path):\n",
    "    img_pil =  Image.open(path)\n",
    "    img_pil = img_pil.resize((224,224))\n",
    "    img_tensor = preprocess(img_pil)\n",
    "    return img_tensor"
   ]
  },
  {
   "cell_type": "code",
   "execution_count": 8,
   "metadata": {},
   "outputs": [],
   "source": [
    "class MyDataset(Dataset):\n",
    "    def __init__(self, img_paths, labels, loader=default_loader):\n",
    "        self.img_paths = img_paths\n",
    "        self.labels = labels\n",
    "        self.loader = loader\n",
    "        \n",
    "    def __getitem__(self, index):\n",
    "        img_path, label = self.img_paths[index], self.labels[index]\n",
    "        img = self.loader(img_path)\n",
    "        \n",
    "        return img, label\n",
    "    \n",
    "    def __len__(self):\n",
    "        return len(self.labels)"
   ]
  },
  {
   "cell_type": "code",
   "execution_count": 9,
   "metadata": {},
   "outputs": [
    {
     "data": {
      "text/plain": [
       "array([17116.8,  1069.8,  3209.4])"
      ]
     },
     "execution_count": 9,
     "metadata": {},
     "output_type": "execute_result"
    }
   ],
   "source": [
    "dataset = MyDataset(train_paths, train_labels)\n",
    "len(dataset)*np.array([0.8,0.05,0.15])"
   ]
  },
  {
   "cell_type": "code",
   "execution_count": 10,
   "metadata": {},
   "outputs": [],
   "source": [
    "train_dataset, val_dataset, test_dataset = random_split(dataset, [17118 ,  1070,  3208], generator=torch.Generator().manual_seed(random_seed))"
   ]
  },
  {
   "cell_type": "code",
   "execution_count": 11,
   "metadata": {},
   "outputs": [],
   "source": [
    "train_loader = DataLoader(train_dataset, batch_size=batch_size)\n",
    "valid_loader = DataLoader(val_dataset, batch_size=batch_size)\n",
    "test_loader = DataLoader(test_dataset, batch_size=batch_size)"
   ]
  },
  {
   "cell_type": "code",
   "execution_count": null,
   "metadata": {},
   "outputs": [],
   "source": []
  },
  {
   "cell_type": "code",
   "execution_count": 12,
   "metadata": {},
   "outputs": [
    {
     "name": "stderr",
     "output_type": "stream",
     "text": [
      "Using cache found in C:\\Users\\woqip/.cache\\torch\\hub\\pytorch_vision_v0.9.0\n"
     ]
    }
   ],
   "source": [
    "model = torch.hub.load('pytorch/vision:v0.9.0', 'densenet121', pretrained=True)\n",
    "model = model.to(device)"
   ]
  },
  {
   "cell_type": "code",
   "execution_count": 13,
   "metadata": {},
   "outputs": [],
   "source": [
    "optimizer = torch.optim.Adam(model.parameters(), lr=0.0001)\n",
    "scheduler = torch.optim.lr_scheduler.ReduceLROnPlateau(optimizer,\n",
    "                                                       factor=0.1,\n",
    "                                                       mode='max',\n",
    "                                                       verbose=True)"
   ]
  },
  {
   "cell_type": "code",
   "execution_count": 14,
   "metadata": {},
   "outputs": [
    {
     "name": "stdout",
     "output_type": "stream",
     "text": [
      "Epoch: 001/035 | Batch 0000/0571 | Loss: 9.6845\n",
      "Epoch: 001/035 | Batch 0100/0571 | Loss: 1.0978\n",
      "Epoch: 001/035 | Batch 0200/0571 | Loss: 0.8262\n",
      "Epoch: 001/035 | Batch 0300/0571 | Loss: 0.5041\n",
      "Epoch: 001/035 | Batch 0400/0571 | Loss: 0.1818\n",
      "Epoch: 001/035 | Batch 0500/0571 | Loss: 0.4252\n",
      "Epoch: 001/035 | Train: 87.28% | Validation: 82.90%\n",
      "Time elapsed: 9.69 min\n",
      "Epoch: 002/035 | Batch 0000/0571 | Loss: 0.5468\n",
      "Epoch: 002/035 | Batch 0100/0571 | Loss: 0.2164\n",
      "Epoch: 002/035 | Batch 0200/0571 | Loss: 0.3802\n",
      "Epoch: 002/035 | Batch 0300/0571 | Loss: 0.2085\n",
      "Epoch: 002/035 | Batch 0400/0571 | Loss: 0.0410\n",
      "Epoch: 002/035 | Batch 0500/0571 | Loss: 0.1847\n",
      "Epoch: 002/035 | Train: 92.88% | Validation: 83.08%\n",
      "Time elapsed: 21.25 min\n",
      "Epoch: 003/035 | Batch 0000/0571 | Loss: 0.1840\n",
      "Epoch: 003/035 | Batch 0100/0571 | Loss: 0.0667\n",
      "Epoch: 003/035 | Batch 0200/0571 | Loss: 0.2448\n",
      "Epoch: 003/035 | Batch 0300/0571 | Loss: 0.1073\n",
      "Epoch: 003/035 | Batch 0400/0571 | Loss: 0.0310\n",
      "Epoch: 003/035 | Batch 0500/0571 | Loss: 0.0683\n",
      "Epoch: 003/035 | Train: 94.04% | Validation: 82.15%\n",
      "Time elapsed: 32.37 min\n",
      "Epoch: 004/035 | Batch 0000/0571 | Loss: 0.0494\n",
      "Epoch: 004/035 | Batch 0100/0571 | Loss: 0.0752\n",
      "Epoch: 004/035 | Batch 0200/0571 | Loss: 0.0910\n",
      "Epoch: 004/035 | Batch 0300/0571 | Loss: 0.0508\n",
      "Epoch: 004/035 | Batch 0400/0571 | Loss: 0.0044\n",
      "Epoch: 004/035 | Batch 0500/0571 | Loss: 0.0469\n",
      "Epoch: 004/035 | Train: 94.25% | Validation: 80.47%\n",
      "Time elapsed: 43.40 min\n",
      "Epoch: 005/035 | Batch 0000/0571 | Loss: 0.1415\n",
      "Epoch: 005/035 | Batch 0100/0571 | Loss: 0.0965\n",
      "Epoch: 005/035 | Batch 0200/0571 | Loss: 0.1616\n",
      "Epoch: 005/035 | Batch 0300/0571 | Loss: 0.0238\n",
      "Epoch: 005/035 | Batch 0400/0571 | Loss: 0.0186\n",
      "Epoch: 005/035 | Batch 0500/0571 | Loss: 0.3237\n",
      "Epoch: 005/035 | Train: 95.30% | Validation: 83.27%\n",
      "Time elapsed: 55.02 min\n",
      "Epoch: 006/035 | Batch 0000/0571 | Loss: 0.0471\n",
      "Epoch: 006/035 | Batch 0100/0571 | Loss: 0.0511\n",
      "Epoch: 006/035 | Batch 0200/0571 | Loss: 0.0432\n",
      "Epoch: 006/035 | Batch 0300/0571 | Loss: 0.0823\n",
      "Epoch: 006/035 | Batch 0400/0571 | Loss: 0.0092\n",
      "Epoch: 006/035 | Batch 0500/0571 | Loss: 0.0746\n",
      "Epoch: 006/035 | Train: 95.08% | Validation: 82.43%\n",
      "Time elapsed: 67.46 min\n",
      "Epoch: 007/035 | Batch 0000/0571 | Loss: 0.0347\n",
      "Epoch: 007/035 | Batch 0100/0571 | Loss: 0.0076\n",
      "Epoch: 007/035 | Batch 0200/0571 | Loss: 0.0269\n",
      "Epoch: 007/035 | Batch 0300/0571 | Loss: 0.0125\n",
      "Epoch: 007/035 | Batch 0400/0571 | Loss: 0.0064\n",
      "Epoch: 007/035 | Batch 0500/0571 | Loss: 0.1191\n",
      "Epoch: 007/035 | Train: 97.32% | Validation: 83.08%\n",
      "Time elapsed: 78.97 min\n",
      "Epoch: 008/035 | Batch 0000/0571 | Loss: 0.0259\n",
      "Epoch: 008/035 | Batch 0100/0571 | Loss: 0.0157\n",
      "Epoch: 008/035 | Batch 0200/0571 | Loss: 0.0407\n",
      "Epoch: 008/035 | Batch 0300/0571 | Loss: 0.0238\n",
      "Epoch: 008/035 | Batch 0400/0571 | Loss: 0.0516\n",
      "Epoch: 008/035 | Batch 0500/0571 | Loss: 0.0315\n",
      "Epoch: 008/035 | Train: 97.69% | Validation: 83.83%\n",
      "Time elapsed: 90.43 min\n",
      "Epoch: 009/035 | Batch 0000/0571 | Loss: 0.1771\n",
      "Epoch: 009/035 | Batch 0100/0571 | Loss: 0.0090\n",
      "Epoch: 009/035 | Batch 0200/0571 | Loss: 0.1435\n",
      "Epoch: 009/035 | Batch 0300/0571 | Loss: 0.0146\n",
      "Epoch: 009/035 | Batch 0400/0571 | Loss: 0.0065\n",
      "Epoch: 009/035 | Batch 0500/0571 | Loss: 0.0914\n",
      "Epoch: 009/035 | Train: 96.93% | Validation: 82.80%\n",
      "Time elapsed: 101.28 min\n",
      "Epoch: 010/035 | Batch 0000/0571 | Loss: 0.0701\n",
      "Epoch: 010/035 | Batch 0100/0571 | Loss: 0.0097\n",
      "Epoch: 010/035 | Batch 0200/0571 | Loss: 0.0047\n",
      "Epoch: 010/035 | Batch 0300/0571 | Loss: 0.0098\n",
      "Epoch: 010/035 | Batch 0400/0571 | Loss: 0.0362\n",
      "Epoch: 010/035 | Batch 0500/0571 | Loss: 0.1406\n",
      "Epoch: 010/035 | Train: 97.42% | Validation: 83.27%\n",
      "Time elapsed: 114.40 min\n",
      "Epoch: 011/035 | Batch 0000/0571 | Loss: 0.0059\n",
      "Epoch: 011/035 | Batch 0100/0571 | Loss: 0.0619\n",
      "Epoch: 011/035 | Batch 0200/0571 | Loss: 0.0187\n",
      "Epoch: 011/035 | Batch 0300/0571 | Loss: 0.0209\n",
      "Epoch: 011/035 | Batch 0400/0571 | Loss: 0.0026\n",
      "Epoch: 011/035 | Batch 0500/0571 | Loss: 0.0817\n",
      "Epoch: 011/035 | Train: 98.01% | Validation: 83.74%\n",
      "Time elapsed: 125.52 min\n",
      "Epoch: 012/035 | Batch 0000/0571 | Loss: 0.0267\n",
      "Epoch: 012/035 | Batch 0100/0571 | Loss: 0.0035\n",
      "Epoch: 012/035 | Batch 0200/0571 | Loss: 0.0125\n",
      "Epoch: 012/035 | Batch 0300/0571 | Loss: 0.0153\n",
      "Epoch: 012/035 | Batch 0400/0571 | Loss: 0.0118\n",
      "Epoch: 012/035 | Batch 0500/0571 | Loss: 0.0181\n",
      "Epoch: 012/035 | Train: 98.72% | Validation: 83.93%\n",
      "Time elapsed: 136.48 min\n",
      "Epoch: 013/035 | Batch 0000/0571 | Loss: 0.0063\n",
      "Epoch: 013/035 | Batch 0100/0571 | Loss: 0.0135\n",
      "Epoch: 013/035 | Batch 0200/0571 | Loss: 0.0258\n",
      "Epoch: 013/035 | Batch 0300/0571 | Loss: 0.0062\n",
      "Epoch: 013/035 | Batch 0400/0571 | Loss: 0.0028\n",
      "Epoch: 013/035 | Batch 0500/0571 | Loss: 0.0151\n",
      "Epoch: 013/035 | Train: 97.94% | Validation: 83.46%\n",
      "Time elapsed: 147.41 min\n",
      "Epoch: 014/035 | Batch 0000/0571 | Loss: 0.0283\n",
      "Epoch: 014/035 | Batch 0100/0571 | Loss: 0.0101\n",
      "Epoch: 014/035 | Batch 0200/0571 | Loss: 0.0274\n",
      "Epoch: 014/035 | Batch 0300/0571 | Loss: 0.0314\n",
      "Epoch: 014/035 | Batch 0400/0571 | Loss: 0.0906\n",
      "Epoch: 014/035 | Batch 0500/0571 | Loss: 0.0256\n",
      "Epoch: 014/035 | Train: 98.34% | Validation: 84.11%\n",
      "Time elapsed: 159.91 min\n",
      "Epoch: 015/035 | Batch 0000/0571 | Loss: 0.0044\n",
      "Epoch: 015/035 | Batch 0100/0571 | Loss: 0.0576\n",
      "Epoch: 015/035 | Batch 0200/0571 | Loss: 0.0117\n",
      "Epoch: 015/035 | Batch 0300/0571 | Loss: 0.0634\n",
      "Epoch: 015/035 | Batch 0400/0571 | Loss: 0.0254\n",
      "Epoch: 015/035 | Batch 0500/0571 | Loss: 0.0115\n",
      "Epoch: 015/035 | Train: 99.04% | Validation: 83.93%\n",
      "Time elapsed: 171.54 min\n",
      "Epoch: 016/035 | Batch 0000/0571 | Loss: 0.1113\n",
      "Epoch: 016/035 | Batch 0100/0571 | Loss: 0.0086\n",
      "Epoch: 016/035 | Batch 0200/0571 | Loss: 0.0461\n",
      "Epoch: 016/035 | Batch 0300/0571 | Loss: 0.0385\n",
      "Epoch: 016/035 | Batch 0400/0571 | Loss: 0.0084\n",
      "Epoch: 016/035 | Batch 0500/0571 | Loss: 0.0027\n",
      "Epoch: 016/035 | Train: 98.58% | Validation: 84.39%\n",
      "Time elapsed: 183.93 min\n",
      "Epoch: 017/035 | Batch 0000/0571 | Loss: 0.0274\n",
      "Epoch: 017/035 | Batch 0100/0571 | Loss: 0.0452\n",
      "Epoch: 017/035 | Batch 0200/0571 | Loss: 0.0081\n",
      "Epoch: 017/035 | Batch 0300/0571 | Loss: 0.0029\n",
      "Epoch: 017/035 | Batch 0400/0571 | Loss: 0.0009\n",
      "Epoch: 017/035 | Batch 0500/0571 | Loss: 0.0098\n",
      "Epoch: 017/035 | Train: 99.17% | Validation: 83.27%\n",
      "Time elapsed: 195.09 min\n",
      "Epoch: 018/035 | Batch 0000/0571 | Loss: 0.0080\n",
      "Epoch: 018/035 | Batch 0100/0571 | Loss: 0.0280\n",
      "Epoch: 018/035 | Batch 0200/0571 | Loss: 0.0059\n",
      "Epoch: 018/035 | Batch 0300/0571 | Loss: 0.0019\n",
      "Epoch: 018/035 | Batch 0400/0571 | Loss: 0.0132\n",
      "Epoch: 018/035 | Batch 0500/0571 | Loss: 0.0223\n",
      "Epoch: 018/035 | Train: 98.17% | Validation: 83.18%\n",
      "Time elapsed: 206.14 min\n",
      "Epoch: 019/035 | Batch 0000/0571 | Loss: 0.0048\n",
      "Epoch: 019/035 | Batch 0100/0571 | Loss: 0.0837\n",
      "Epoch: 019/035 | Batch 0200/0571 | Loss: 0.0146\n",
      "Epoch: 019/035 | Batch 0300/0571 | Loss: 0.0049\n",
      "Epoch: 019/035 | Batch 0400/0571 | Loss: 0.0008\n",
      "Epoch: 019/035 | Batch 0500/0571 | Loss: 0.0045\n",
      "Epoch: 019/035 | Train: 98.04% | Validation: 83.08%\n",
      "Time elapsed: 217.04 min\n",
      "Epoch: 020/035 | Batch 0000/0571 | Loss: 0.0366\n",
      "Epoch: 020/035 | Batch 0100/0571 | Loss: 0.0465\n",
      "Epoch: 020/035 | Batch 0200/0571 | Loss: 0.0174\n",
      "Epoch: 020/035 | Batch 0300/0571 | Loss: 0.0028\n",
      "Epoch: 020/035 | Batch 0400/0571 | Loss: 0.0312\n",
      "Epoch: 020/035 | Batch 0500/0571 | Loss: 0.0025\n",
      "Epoch: 020/035 | Train: 98.92% | Validation: 84.58%\n",
      "Time elapsed: 229.37 min\n",
      "Epoch: 021/035 | Batch 0000/0571 | Loss: 0.0652\n",
      "Epoch: 021/035 | Batch 0100/0571 | Loss: 0.0052\n",
      "Epoch: 021/035 | Batch 0200/0571 | Loss: 0.0073\n",
      "Epoch: 021/035 | Batch 0300/0571 | Loss: 0.0043\n",
      "Epoch: 021/035 | Batch 0400/0571 | Loss: 0.0001\n",
      "Epoch: 021/035 | Batch 0500/0571 | Loss: 0.0520\n",
      "Epoch: 021/035 | Train: 99.32% | Validation: 84.58%\n",
      "Time elapsed: 240.74 min\n",
      "Epoch: 022/035 | Batch 0000/0571 | Loss: 0.0010\n",
      "Epoch: 022/035 | Batch 0100/0571 | Loss: 0.1938\n",
      "Epoch: 022/035 | Batch 0200/0571 | Loss: 0.0355\n",
      "Epoch: 022/035 | Batch 0300/0571 | Loss: 0.0407\n",
      "Epoch: 022/035 | Batch 0400/0571 | Loss: 0.0009\n",
      "Epoch: 022/035 | Batch 0500/0571 | Loss: 0.0014\n",
      "Epoch: 022/035 | Train: 99.35% | Validation: 84.86%\n",
      "Time elapsed: 251.96 min\n",
      "Epoch: 023/035 | Batch 0000/0571 | Loss: 0.2576\n",
      "Epoch: 023/035 | Batch 0100/0571 | Loss: 0.0029\n",
      "Epoch: 023/035 | Batch 0200/0571 | Loss: 0.0123\n",
      "Epoch: 023/035 | Batch 0300/0571 | Loss: 0.0067\n",
      "Epoch: 023/035 | Batch 0400/0571 | Loss: 0.0024\n",
      "Epoch: 023/035 | Batch 0500/0571 | Loss: 0.0144\n",
      "Epoch: 023/035 | Train: 98.49% | Validation: 84.58%\n",
      "Time elapsed: 263.14 min\n",
      "Epoch: 024/035 | Batch 0000/0571 | Loss: 0.0051\n",
      "Epoch: 024/035 | Batch 0100/0571 | Loss: 0.0021\n",
      "Epoch: 024/035 | Batch 0200/0571 | Loss: 0.1425\n",
      "Epoch: 024/035 | Batch 0300/0571 | Loss: 0.0008\n",
      "Epoch: 024/035 | Batch 0400/0571 | Loss: 0.0015\n",
      "Epoch: 024/035 | Batch 0500/0571 | Loss: 0.0077\n",
      "Epoch: 024/035 | Train: 99.04% | Validation: 84.30%\n",
      "Time elapsed: 274.35 min\n",
      "Epoch: 025/035 | Batch 0000/0571 | Loss: 0.0013\n",
      "Epoch: 025/035 | Batch 0100/0571 | Loss: 0.0018\n",
      "Epoch: 025/035 | Batch 0200/0571 | Loss: 0.0581\n",
      "Epoch: 025/035 | Batch 0300/0571 | Loss: 0.0278\n",
      "Epoch: 025/035 | Batch 0400/0571 | Loss: 0.0380\n",
      "Epoch: 025/035 | Batch 0500/0571 | Loss: 0.0087\n",
      "Epoch: 025/035 | Train: 98.74% | Validation: 84.02%\n",
      "Time elapsed: 286.70 min\n",
      "Epoch: 026/035 | Batch 0000/0571 | Loss: 0.0187\n",
      "Epoch: 026/035 | Batch 0100/0571 | Loss: 0.0021\n",
      "Epoch: 026/035 | Batch 0200/0571 | Loss: 0.0102\n",
      "Epoch: 026/035 | Batch 0300/0571 | Loss: 0.0020\n",
      "Epoch: 026/035 | Batch 0400/0571 | Loss: 0.0026\n",
      "Epoch: 026/035 | Batch 0500/0571 | Loss: 0.0027\n",
      "Epoch: 026/035 | Train: 99.48% | Validation: 84.67%\n",
      "Time elapsed: 298.39 min\n",
      "Epoch: 027/035 | Batch 0000/0571 | Loss: 0.0009\n",
      "Epoch: 027/035 | Batch 0100/0571 | Loss: 0.0002\n",
      "Epoch: 027/035 | Batch 0200/0571 | Loss: 0.0004\n",
      "Epoch: 027/035 | Batch 0300/0571 | Loss: 0.0142\n",
      "Epoch: 027/035 | Batch 0400/0571 | Loss: 0.0009\n",
      "Epoch: 027/035 | Batch 0500/0571 | Loss: 0.0055\n",
      "Epoch: 027/035 | Train: 98.07% | Validation: 84.49%\n",
      "Time elapsed: 309.71 min\n",
      "Epoch: 028/035 | Batch 0000/0571 | Loss: 0.0022\n",
      "Epoch: 028/035 | Batch 0100/0571 | Loss: 0.0705\n",
      "Epoch: 028/035 | Batch 0200/0571 | Loss: 0.0063\n",
      "Epoch: 028/035 | Batch 0300/0571 | Loss: 0.0026\n",
      "Epoch: 028/035 | Batch 0400/0571 | Loss: 0.0034\n",
      "Epoch: 028/035 | Batch 0500/0571 | Loss: 0.1679\n",
      "Epoch: 028/035 | Train: 99.02% | Validation: 83.46%\n",
      "Time elapsed: 320.96 min\n",
      "Epoch: 029/035 | Batch 0000/0571 | Loss: 0.0451\n",
      "Epoch: 029/035 | Batch 0100/0571 | Loss: 0.1160\n",
      "Epoch: 029/035 | Batch 0200/0571 | Loss: 0.0009\n",
      "Epoch: 029/035 | Batch 0300/0571 | Loss: 0.0093\n",
      "Epoch: 029/035 | Batch 0400/0571 | Loss: 0.0040\n",
      "Epoch: 029/035 | Batch 0500/0571 | Loss: 0.0087\n",
      "Epoch: 029/035 | Train: 99.50% | Validation: 85.98%\n",
      "Time elapsed: 331.86 min\n",
      "Epoch: 030/035 | Batch 0000/0571 | Loss: 0.0075\n",
      "Epoch: 030/035 | Batch 0100/0571 | Loss: 0.0368\n",
      "Epoch: 030/035 | Batch 0200/0571 | Loss: 0.0001\n",
      "Epoch: 030/035 | Batch 0300/0571 | Loss: 0.0015\n",
      "Epoch: 030/035 | Batch 0400/0571 | Loss: 0.0003\n",
      "Epoch: 030/035 | Batch 0500/0571 | Loss: 0.0118\n",
      "Epoch: 030/035 | Train: 98.98% | Validation: 85.42%\n",
      "Time elapsed: 344.43 min\n",
      "Epoch: 031/035 | Batch 0000/0571 | Loss: 0.0040\n",
      "Epoch: 031/035 | Batch 0100/0571 | Loss: 0.0021\n",
      "Epoch: 031/035 | Batch 0200/0571 | Loss: 0.0005\n",
      "Epoch: 031/035 | Batch 0300/0571 | Loss: 0.0003\n",
      "Epoch: 031/035 | Batch 0400/0571 | Loss: 0.0004\n",
      "Epoch: 031/035 | Batch 0500/0571 | Loss: 0.0368\n",
      "Epoch: 031/035 | Train: 99.19% | Validation: 83.46%\n",
      "Time elapsed: 355.92 min\n",
      "Epoch: 032/035 | Batch 0000/0571 | Loss: 0.0061\n",
      "Epoch: 032/035 | Batch 0100/0571 | Loss: 0.0010\n",
      "Epoch: 032/035 | Batch 0200/0571 | Loss: 0.0001\n",
      "Epoch: 032/035 | Batch 0300/0571 | Loss: 0.0030\n",
      "Epoch: 032/035 | Batch 0400/0571 | Loss: 0.0070\n",
      "Epoch: 032/035 | Batch 0500/0571 | Loss: 0.0202\n",
      "Epoch: 032/035 | Train: 97.97% | Validation: 83.27%\n",
      "Time elapsed: 367.12 min\n",
      "Epoch: 033/035 | Batch 0000/0571 | Loss: 0.0270\n",
      "Epoch: 033/035 | Batch 0100/0571 | Loss: 0.0104\n",
      "Epoch: 033/035 | Batch 0200/0571 | Loss: 0.0011\n",
      "Epoch: 033/035 | Batch 0300/0571 | Loss: 0.0016\n",
      "Epoch: 033/035 | Batch 0400/0571 | Loss: 0.0012\n",
      "Epoch: 033/035 | Batch 0500/0571 | Loss: 0.0026\n",
      "Epoch: 033/035 | Train: 99.50% | Validation: 86.36%\n",
      "Time elapsed: 378.23 min\n",
      "Epoch: 034/035 | Batch 0000/0571 | Loss: 0.1277\n",
      "Epoch: 034/035 | Batch 0100/0571 | Loss: 0.0003\n",
      "Epoch: 034/035 | Batch 0200/0571 | Loss: 0.0031\n",
      "Epoch: 034/035 | Batch 0300/0571 | Loss: 0.0005\n",
      "Epoch: 034/035 | Batch 0400/0571 | Loss: 0.0045\n",
      "Epoch: 034/035 | Batch 0500/0571 | Loss: 0.0025\n",
      "Epoch: 034/035 | Train: 99.59% | Validation: 85.51%\n",
      "Time elapsed: 390.43 min\n",
      "Epoch: 035/035 | Batch 0000/0571 | Loss: 0.0022\n",
      "Epoch: 035/035 | Batch 0100/0571 | Loss: 0.0011\n",
      "Epoch: 035/035 | Batch 0200/0571 | Loss: 0.0009\n",
      "Epoch: 035/035 | Batch 0300/0571 | Loss: 0.0009\n",
      "Epoch: 035/035 | Batch 0400/0571 | Loss: 0.0000\n",
      "Epoch: 035/035 | Batch 0500/0571 | Loss: 0.0212\n",
      "Epoch: 035/035 | Train: 99.34% | Validation: 84.95%\n",
      "Time elapsed: 402.32 min\n",
      "Total Training Time: 402.32 min\n",
      "Test accuracy 84.04%\n"
     ]
    },
    {
     "data": {
      "image/png": "[encoded data removed]",
      "text/plain": [
       "<Figure size 432x288 with 2 Axes>"
      ]
     },
     "metadata": {
      "needs_background": "light"
     },
     "output_type": "display_data"
    },
    {
     "data": {
      "image/png": "[encoded data removed]",
      "text/plain": [
       "<Figure size 432x288 with 1 Axes>"
      ]
     },
     "metadata": {
      "needs_background": "light"
     },
     "output_type": "display_data"
    }
   ],
   "source": [
    "minibatch_loss_list, train_acc_list, valid_acc_list = train_model(\n",
    "    model=model,\n",
    "    num_epochs=NUM_EPOCHS,\n",
    "    train_loader=train_loader,\n",
    "    valid_loader=valid_loader,\n",
    "    test_loader=test_loader,\n",
    "    optimizer=optimizer,\n",
    "    device=device,\n",
    "    scheduler=scheduler,\n",
    "    scheduler_on='valid_acc',\n",
    "    logging_interval=100)\n",
    "\n",
    "plot_training_loss(minibatch_loss_list=minibatch_loss_list,\n",
    "                   num_epochs=NUM_EPOCHS,\n",
    "                   iter_per_epoch=len(train_loader),\n",
    "                   results_dir=None,\n",
    "                   averaging_iterations=200)\n",
    "plt.show()\n",
    "\n",
    "plot_accuracy(train_acc_list=train_acc_list,\n",
    "              valid_acc_list=valid_acc_list,\n",
    "              results_dir=None)\n",
    "plt.ylim([60, 100])\n",
    "plt.show()"
   ]
  },
  {
   "cell_type": "code",
   "execution_count": 15,
   "metadata": {},
   "outputs": [
    {
     "name": "stdout",
     "output_type": "stream",
     "text": [
      "|===========================================================================|\n",
      "|                  PyTorch CUDA memory summary, device ID 0                 |\n",
      "|---------------------------------------------------------------------------|\n",
      "|            CUDA OOMs: 0            |        cudaMalloc retries: 0         |\n",
      "|===========================================================================|\n",
      "|        Metric         | Cur Usage  | Peak Usage | Tot Alloc  | Tot Freed  |\n",
      "|---------------------------------------------------------------------------|\n",
      "| Allocated memory      |  125728 KB |    4106 MB |  389913 GB |  389913 GB |\n",
      "|       from large pool |   24750 KB |    3986 MB |  381252 GB |  381252 GB |\n",
      "|       from small pool |  100977 KB |     124 MB |    8660 GB |    8660 GB |\n",
      "|---------------------------------------------------------------------------|\n",
      "| Active memory         |  125728 KB |    4106 MB |  389913 GB |  389913 GB |\n",
      "|       from large pool |   24750 KB |    3986 MB |  381252 GB |  381252 GB |\n",
      "|       from small pool |  100977 KB |     124 MB |    8660 GB |    8660 GB |\n",
      "|---------------------------------------------------------------------------|\n",
      "| GPU reserved memory   |    4266 MB |    4266 MB |    4266 MB |       0 B  |\n",
      "|       from large pool |    4132 MB |    4132 MB |    4132 MB |       0 B  |\n",
      "|       from small pool |     134 MB |     134 MB |     134 MB |       0 B  |\n",
      "|---------------------------------------------------------------------------|\n",
      "| Non-releasable memory |   58592 KB |  397759 KB |  127992 GB |  127992 GB |\n",
      "|       from large pool |   48977 KB |  386185 KB |  118728 GB |  118728 GB |\n",
      "|       from small pool |    9614 KB |   16856 KB |    9264 GB |    9264 GB |\n",
      "|---------------------------------------------------------------------------|\n",
      "| Allocations           |    1819    |    2327    |   67509 K  |   67507 K  |\n",
      "|       from large pool |       8    |     225    |   23747 K  |   23747 K  |\n",
      "|       from small pool |    1811    |    2104    |   43761 K  |   43759 K  |\n",
      "|---------------------------------------------------------------------------|\n",
      "| Active allocs         |    1819    |    2327    |   67509 K  |   67507 K  |\n",
      "|       from large pool |       8    |     225    |   23747 K  |   23747 K  |\n",
      "|       from small pool |    1811    |    2104    |   43761 K  |   43759 K  |\n",
      "|---------------------------------------------------------------------------|\n",
      "| GPU reserved segments |     202    |     202    |     202    |       0    |\n",
      "|       from large pool |     135    |     135    |     135    |       0    |\n",
      "|       from small pool |      67    |      67    |      67    |       0    |\n",
      "|---------------------------------------------------------------------------|\n",
      "| Non-releasable allocs |     137    |     167    |   37556 K  |   37556 K  |\n",
      "|       from large pool |       3    |      74    |   10587 K  |   10587 K  |\n",
      "|       from small pool |     134    |     164    |   26968 K  |   26968 K  |\n",
      "|===========================================================================|\n",
      "\n"
     ]
    }
   ],
   "source": [
    "print(torch.cuda.memory_summary())"
   ]
  },
  {
   "cell_type": "code",
   "execution_count": 16,
   "metadata": {},
   "outputs": [],
   "source": [
    "torch.cuda.empty_cache()"
   ]
  }
 ],
 "metadata": {
  "kernelspec": {
   "display_name": "Python 3",
   "language": "python",
   "name": "python3"
  },
  "language_info": {
   "codemirror_mode": {
    "name": "ipython",
    "version": 3
   },
   "file_extension": ".py",
   "mimetype": "text/x-python",
   "name": "python",
   "nbconvert_exporter": "python",
   "pygments_lexer": "ipython3",
   "version": "3.8.5"
  }
 },
 "nbformat": 4,
 "nbformat_minor": 4
}
